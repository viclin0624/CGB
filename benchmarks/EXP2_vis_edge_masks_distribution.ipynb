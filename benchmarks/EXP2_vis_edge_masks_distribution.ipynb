{
 "cells": [
  {
   "cell_type": "code",
   "execution_count": 1,
   "metadata": {},
   "outputs": [
    {
     "name": "stderr",
     "output_type": "stream",
     "text": [
      "Using backend: pytorch\n"
     ]
    },
    {
     "name": "stdout",
     "output_type": "stream",
     "text": [
      "50 5\n"
     ]
    }
   ],
   "source": [
    "import json\n",
    "import os\n",
    "import tempfile\n",
    "import time\n",
    "from matplotlib.collections import Collection\n",
    "from copy import deepcopy\n",
    "import networkx as nx\n",
    "import torch\n",
    "from torch import nn\n",
    "import torch.nn.functional as F\n",
    "import sys\n",
    "import dgl\n",
    "import numpy as np\n",
    "import pandas as pd\n",
    "from tqdm import tqdm as tq\n",
    "import mlflow\n",
    "from collections import defaultdict\n",
    "sys.path.append('..')\n",
    "from model.models_dgl import FixedNet2\n",
    "from collections import Counter\n",
    "from benchmarks.build_graph import CGBDataset,build_graph\n",
    "from benchmarks.benchmark_dgl import Benchmark\n",
    "from method.explain_methods_dgl import explain_random, explain_ig, explain_sa, explain_gnnexplainer, explain_pgmexplainer\n",
    "import matplotlib.pyplot as plt\n",
    "def draw_explanation(g, edge_mask):\n",
    "    plt.figure(figsize=(25,25),edgecolor='g')\n",
    "    fig,ax = plt.subplots(figsize=(10,10))\n",
    "    g = g.to(torch.device('cpu'))\n",
    "    g.edata['weight'] = torch.tensor(edge_mask)\n",
    "    g_nx = dgl.to_networkx(g,edge_attrs=['weight']) \n",
    "    edges = g_nx.edges()\n",
    "    weights = [g_nx[u][v][0]['weight']*0.5+0.2 for u,v in edges]\n",
    "    pos = nx.spring_layout(g_nx)\n",
    "    nx.draw_networkx_nodes(g_nx,pos)\n",
    "    nx.draw_networkx_edges(g_nx,pos, width=weights,connectionstyle=\"arc3,rad=0.3\")\n",
    "\n",
    "class BA4label(Benchmark):\n",
    "    NUM_TRAIN_GRAPHS = 1000\n",
    "    NUM_NODES = 50\n",
    "    TEST_RATIO = 0.001\n",
    "    LR = 0.003\n",
    "    M = 5\n",
    "    print(NUM_NODES,M)\n",
    "    NO_ATTACH_INIT_NODES = True\n",
    "\n",
    "    @staticmethod\n",
    "    def get_accuracy(g, correct_ids, edge_mask):\n",
    "        '''\n",
    "        edge_index: 2 elements tuple, u and v\n",
    "        '''\n",
    "        if correct_ids == []:\n",
    "            if np.all(np.mean(edge_mask) == edge_mask):\n",
    "                return 1\n",
    "            else:\n",
    "                return 0\n",
    "        else:\n",
    "            correct_edges = set()\n",
    "            for i in range(g.num_edges()):\n",
    "                u = g.edges()[0][i].item()\n",
    "                v = g.edges()[1][i].item()\n",
    "                if u in correct_ids and v in correct_ids: #每个双向边都计入，是否要将边缘的边改为只计入一遍？\n",
    "                    correct_edges.add((u,v))\n",
    "                    correct_edges.add((v,u))\n",
    "                elif v in correct_ids:\n",
    "                    correct_edges.add((u,v))\n",
    "                else:\n",
    "                    continue\n",
    "            #按照单向边来计算\n",
    "            correct_count = 0\n",
    "            for x in np.argsort(-edge_mask)[:len(correct_edges)]:\n",
    "                u = g.edges()[0][x].item()\n",
    "                v = g.edges()[1][x].item()\n",
    "                if (u, v) in correct_edges:\n",
    "                    correct_count += 1\n",
    "            #双向边只要对一条就算对 注意 此时正确边要包含每个双向边\n",
    "            '''\n",
    "            mask_edges = set()\n",
    "            for x in np.argsort(-edge_mask)[:len(correct_edges)]:\n",
    "                u = g.edges[0][x].item()\n",
    "                v = g.edges[1][x].item()\n",
    "                if ( (u, v) in correct_edges or (v, u) in correct_edges ) and (v, u) not in mask_edges:\n",
    "                    mask_edges.add((v,u))\n",
    "                    correct_count += 2\n",
    "            '''\n",
    "            return correct_count / len(correct_edges)\n",
    "\n",
    "    def create_dataset(self, graphs_num, m = 6, nodes_num = 50, include_bias_class = True):\n",
    "        '''\n",
    "        Return data\n",
    "        '''\n",
    "        data = CGBDataset(graphs_num=graphs_num, m = m, nodes_num=nodes_num, perturb_dic = {}, no_attach_init_nodes = True, include_bias_class=include_bias_class)\n",
    "        print('created one')\n",
    "        return data\n",
    "\n",
    "    def is_trained_model_valid(self, test_acc):\n",
    "        return test_acc == 1\n",
    "\n",
    "    def evaluate_explanation(self, explain_function, model, test_dataset, explain_name, iteration = 1, summarytype = 'sum'):\n",
    "        accs = []\n",
    "        tested_graphs = 0\n",
    "        accs_sum = []\n",
    "        accs_count13 = []\n",
    "        accs_rank = []\n",
    "        accs_count26 = []\n",
    "        for g, label in tq(test_dataset):\n",
    "            g = g.to(self.device)\n",
    "            tested_graphs += 1\n",
    "            edge_mask = explain_function(model, 'graph', g, g.ndata['x'], label)\n",
    "\n",
    "            if iteration != 1:\n",
    "                edge_mask_list = [deepcopy(edge_mask)]\n",
    "                for _ in range(1,iteration):\n",
    "                    new_edge_mask = explain_function(model, 'graph', g, g.ndata['x'], label)\n",
    "                    edge_mask_list.append(new_edge_mask)\n",
    "                \n",
    "                for summarytype in ['sum','count13','count26','rank']:\n",
    "                    edge_mask = deepcopy(edge_mask_list[0])\n",
    "                    if summarytype == 'sum':\n",
    "                        for i in range(1, iteration):\n",
    "                            edge_mask += edge_mask_list[i]\n",
    "                        sum_edge_mask = edge_mask\n",
    "                    if summarytype == 'count26':#influence by threshold and not be appropriate to stable method\n",
    "                        top_edges_index = list(np.argsort(-edge_mask)[:26])\n",
    "                        for j in range(1, iteration):\n",
    "                            edge_mask = edge_mask_list[j]\n",
    "                            top_edges_index.extend(list(np.argsort(-edge_mask)[:26]))\n",
    "                        edges_index_dic = Counter(top_edges_index)\n",
    "                        edge_mask = np.zeros(g.num_edges())\n",
    "                        for k,v in edges_index_dic.items():\n",
    "                            edge_mask[k] = v \n",
    "                        count26_edge_mask = edge_mask\n",
    "                    if summarytype == 'rank':\n",
    "                        edges_index = np.argsort(-edge_mask)\n",
    "                        edges_rank = {}\n",
    "                        for i in range(len(edges_index)):\n",
    "                            edges_rank[edges_index[i]] = i\n",
    "                        for j in range(1, iteration):\n",
    "                            edge_mask = edge_mask_list[j]\n",
    "                            edges_index = np.argsort(-edge_mask)\n",
    "                            for i in range(len(edges_index)):\n",
    "                                edges_rank[edges_index[i]] += i\n",
    "                        edge_mask = []\n",
    "                        for i in range(g.num_edges()):\n",
    "                            edge_mask.append(edges_rank[i])\n",
    "                        edge_mask = -np.array(edge_mask)\n",
    "                        rank_edge_mask = edge_mask\n",
    "                    if summarytype == 'count13':#influence by threshold and not be appropriate to stable method\n",
    "                        top_edges_index = list(np.argsort(-edge_mask)[:13])\n",
    "                        for j in range(1, iteration):\n",
    "                            edge_mask = edge_mask_list[j]\n",
    "                            top_edges_index.extend(list(np.argsort(-edge_mask)[:13]))\n",
    "                        edges_index_dic = Counter(top_edges_index)\n",
    "                        edge_mask = np.zeros(g.num_edges())\n",
    "                        for k,v in edges_index_dic.items():\n",
    "                            edge_mask[k] = v \n",
    "                        count13_edge_mask = edge_mask\n",
    "                if label == 0:\n",
    "                    correct_ids = []\n",
    "                else:\n",
    "                    correct_ids = [x for x in range(len(g.nodes())-10,len(g.nodes()))]\n",
    "                explain_acc = self.get_accuracy(g, correct_ids, sum_edge_mask)\n",
    "                accs_sum.append(explain_acc)\n",
    "                explain_acc = self.get_accuracy(g, correct_ids, count13_edge_mask)\n",
    "                accs_count13.append(explain_acc)\n",
    "                explain_acc = self.get_accuracy(g, correct_ids, rank_edge_mask)\n",
    "                accs_rank.append(explain_acc)\n",
    "                explain_acc = self.get_accuracy(g, correct_ids, count26_edge_mask)\n",
    "                accs_count26.append(explain_acc)\n",
    "                edge_mask = edge_mask_list[0]\n",
    "                \n",
    "            if label == 0:\n",
    "                correct_ids = []\n",
    "            else:\n",
    "                correct_ids = [x for x in range(len(g.nodes())-10,len(g.nodes()))]\n",
    "\n",
    "            explain_acc = self.get_accuracy(g, correct_ids, edge_mask)\n",
    "            draw_explanation(g, edge_mask)\n",
    "            g = g.to(self.device)\n",
    "            accs.append(explain_acc)\n",
    "        if iteration != 1:\n",
    "            return accs,accs_sum,accs_count13,accs_rank,accs_count26\n",
    "        return accs\n",
    "\n",
    "    def train(self, model, optimizer, train_loader):\n",
    "        #need to train\n",
    "        loss_all = 0\n",
    "        for g, label in train_loader:\n",
    "            g = g.to(self.device)\n",
    "            label = label.to(self.device)\n",
    "            optimizer.zero_grad()\n",
    "            output = model(g, g.ndata['x'])\n",
    "            loss = F.nll_loss(output.float(), label)\n",
    "            loss.backward()\n",
    "            loss_all += loss.item()\n",
    "            optimizer.step()\n",
    "        return loss_all / len(train_loader)\n",
    "\n",
    "\n",
    "    def test(self, model, loader):\n",
    "        model.eval()\n",
    "\n",
    "        correct = 0\n",
    "        total = 0\n",
    "        for g, label in loader:\n",
    "            g = g.to(self.device)\n",
    "            label = label.to(self.device)\n",
    "            output = model(g, g.ndata['x'])\n",
    "            pred = output.max(dim=1)[1]\n",
    "            correct += pred.eq(label).sum().item()\n",
    "            total += len(label)\n",
    "        return correct / total\n",
    "\n",
    "    def train_and_test(self, model, train_loader, test_loader):\n",
    "        optimizer = torch.optim.Adam(model.parameters(), lr=self.LR, weight_decay=self.WEIGHT_DECAY)\n",
    "        mlflow.log_param('weight_decay', self.WEIGHT_DECAY)\n",
    "        mlflow.log_param('lr', self.LR)\n",
    "        mlflow.log_param('epochs', self.EPOCHS)\n",
    "        pbar = tq(range(self.EPOCHS))\n",
    "        for epoch in pbar:\n",
    "            train_loss = self.train(model, optimizer, train_loader)\n",
    "            train_acc = self.test(model, train_loader)\n",
    "            test_acc = self.test(model, test_loader)\n",
    "            pbar.set_postfix(train_loss=train_loss, train_acc=train_acc, test_acc=test_acc)\n",
    "        return train_acc, test_acc\n",
    "\n",
    "\n",
    "    def run(self):\n",
    "        print(f\"Using device {self.device}\")\n",
    "        benchmark_name = self.__class__.__name__\n",
    "        all_explanations = defaultdict(list)\n",
    "        all_runtimes = defaultdict(list)\n",
    "        for experiment_i in range(1):\n",
    "            train_dataset = self.create_dataset(self.NUM_TRAIN_GRAPHS, self.M, self.NUM_NODES, include_bias_class = True)\n",
    "            test_dataset = self.create_dataset(int(self.NUM_TRAIN_GRAPHS*self.TEST_RATIO), self.M, self.NUM_NODES, include_bias_class = False)\n",
    "\n",
    "            train_dataloader = dgl.dataloading.GraphDataLoader(train_dataset, batch_size = 32, shuffle = True)\n",
    "            test_dataloader = dgl.dataloading.GraphDataLoader(test_dataset, batch_size = 1, shuffle = True)\n",
    "            model = Net2(1, 4, 2, False, 'GraphConvWL').to(self.device)\n",
    "            model.to(self.device)\n",
    "            train_acc, test_acc = self.train_and_test(model, train_dataloader, test_dataloader)\n",
    "            if not self.is_trained_model_valid(test_acc):\n",
    "                print('Model accuracy was not valid, ignoring this experiment')\n",
    "                continue\n",
    "            model.eval()\n",
    "            metrics = {\n",
    "                'train_acc': train_acc,\n",
    "                'test_acc': test_acc,\n",
    "            }\n",
    "            mlflow.log_metrics(metrics, step=experiment_i)\n",
    "\n",
    "            for explain_name in self.METHODS:\n",
    "                explain_function = eval('explain_' + explain_name)\n",
    "                duration_samples = []\n",
    "\n",
    "                def time_wrapper(*args, **kwargs):\n",
    "                    start_time = time.time()\n",
    "                    result = explain_function(*args, **kwargs)\n",
    "                    end_time = time.time()\n",
    "                    duration_seconds = end_time - start_time\n",
    "                    duration_samples.append(duration_seconds)\n",
    "                    return result\n",
    "\n",
    "                time_wrapper.explain_function = explain_function\n",
    "                accs = self.evaluate_explanation(time_wrapper, model, test_dataset, explain_name)\n",
    "                print(f'Benchmark:{benchmark_name} Run #{experiment_i + 1}, Explain Method: {explain_name}, Accuracy: {np.mean(accs)}')\n",
    "\n",
    "                all_explanations[explain_name].append(list(accs))\n",
    "                all_runtimes[explain_name].extend(duration_samples)\n",
    "                metrics = {\n",
    "                    f'explain_{explain_name}_acc': np.mean(accs),\n",
    "                    f'time_{explain_name}_s_avg': np.mean(duration_samples),\n",
    "                }\n",
    "                with tempfile.TemporaryDirectory() as tmpdir:\n",
    "                    file_path = os.path.join(tmpdir, 'accuracies.json')\n",
    "                    json.dump(all_explanations, open(file_path, 'w'), indent=2)\n",
    "                    mlflow.log_artifact(file_path)\n",
    "                mlflow.log_metrics(metrics, step=experiment_i)\n",
    "\n",
    "                '''iteration_num = 10\n",
    "                summary_type = 'sum'\n",
    "\n",
    "                time_wrapper.explain_function = explain_function\n",
    "                accs, accs_sum, accs_count13, accs_rank, accs_count26 = self.evaluate_explanation(time_wrapper, model, test_dataset, explain_name, iteration = iteration_num, summarytype = summary_type)\n",
    "                print(f'Benchmark:{benchmark_name} Run #{experiment_i + 1}, Explain Method: {explain_name}+{iteration_num}, Accuracy: {np.mean(accs)}')\n",
    "                print(f'Benchmark:{benchmark_name} Run #{experiment_i + 1}, Explain Method: {explain_name}+{iteration_num}+sum, Accuracy: {np.mean(accs_sum)}')\n",
    "                print(f'Benchmark:{benchmark_name} Run #{experiment_i + 1}, Explain Method: {explain_name}+{iteration_num}+count13, Accuracy: {np.mean(accs_count13)}')\n",
    "                print(f'Benchmark:{benchmark_name} Run #{experiment_i + 1}, Explain Method: {explain_name}+{iteration_num}+rank, Accuracy: {np.mean(accs_rank)}')\n",
    "                print(f'Benchmark:{benchmark_name} Run #{experiment_i + 1}, Explain Method: {explain_name}+{iteration_num}+count26, Accuracy: {np.mean(accs_count26)}')\n",
    "                \n",
    "                all_explanations[explain_name].append(list(accs))\n",
    "                all_explanations[explain_name+str(iteration_num)+'sum'].append(list(accs_sum))\n",
    "                all_explanations[explain_name+str(iteration_num)+'count13'].append(list(accs_count13))\n",
    "                all_explanations[explain_name+str(iteration_num)+'rank'].append(list(accs_rank))\n",
    "                all_explanations[explain_name+str(iteration_num)+'count26'].append(list(accs_count26))\n",
    "                \n",
    "                all_runtimes[explain_name].extend(duration_samples)\n",
    "                all_runtimes[explain_name+str(iteration_num)+'sum'].extend(duration_samples)\n",
    "                all_runtimes[explain_name+str(iteration_num)+'count13'].extend(duration_samples)\n",
    "                all_runtimes[explain_name+str(iteration_num)+'rank'].extend(duration_samples)\n",
    "                all_runtimes[explain_name+str(iteration_num)+'count26'].extend(duration_samples)\n",
    "\n",
    "                metrics = {\n",
    "                    f'explain_{explain_name}_acc': np.mean(accs),\n",
    "                    f'time_{explain_name}_{iteration_num}_avg': np.mean(duration_samples),\n",
    "\n",
    "                    f'explain_{explain_name}_{iteration_num}_sum_acc': np.mean(accs_sum),\n",
    "                    f'time_{explain_name}_{iteration_num}_sum_avg': np.mean(duration_samples),\n",
    "                    \n",
    "                    f'explain_{explain_name}_{iteration_num}_count13_acc': np.mean(accs_count13),\n",
    "                    f'time_{explain_name}_{iteration_num}_count13_avg': np.mean(duration_samples),\n",
    "                    \n",
    "                    f'explain_{explain_name}_{iteration_num}_rank_acc': np.mean(accs_rank),\n",
    "                    f'time_{explain_name}_{iteration_num}_rank_avg': np.mean(duration_samples),\n",
    "\n",
    "                    f'explain_{explain_name}_{iteration_num}_count26_acc': np.mean(accs_count26),\n",
    "                    f'time_{explain_name}_{iteration_num}_count26_avg': np.mean(duration_samples),\n",
    "                }\n",
    "                with tempfile.TemporaryDirectory() as tmpdir:\n",
    "                    file_path = os.path.join(tmpdir, 'accuracies.json')\n",
    "                    json.dump(all_explanations, open(file_path, 'w'), indent=2)\n",
    "                    mlflow.log_artifact(file_path)\n",
    "                mlflow.log_metrics(metrics, step=experiment_i)'''\n",
    "\n",
    "\n",
    "            print(f'Benchmark:{benchmark_name} Run #{experiment_i + 1} finished. Average Explanation Accuracies for each method:')\n",
    "            accuracies_summary = {}\n",
    "            for name, run_accs in all_explanations.items():\n",
    "                run_accs = [np.mean(single_run_acc) for single_run_acc in run_accs]\n",
    "                accuracies_summary[name] = {'avg': np.mean(run_accs), 'std': np.std(run_accs), 'count': len(run_accs)}\n",
    "                print(f'{name} : avg:{np.mean(run_accs)} std:{np.std(run_accs)}')\n",
    "            runtime_summary = {}\n",
    "            for name, runtimes in all_runtimes.items():\n",
    "                runtime_summary[name] = {'avg': np.mean(runtimes), 'std': np.std(runtimes)}\n",
    "            with tempfile.TemporaryDirectory() as tmpdir:\n",
    "                file_path = os.path.join(tmpdir, 'summary.json')\n",
    "                summary = {'accuracies': accuracies_summary, 'runtime': runtime_summary}\n",
    "                json.dump(summary, open(file_path, 'w'), indent=2)\n",
    "                mlflow.log_artifact(file_path)"
   ]
  },
  {
   "cell_type": "code",
   "execution_count": 2,
   "metadata": {},
   "outputs": [],
   "source": [
    "data = CGBDataset(graphs_num=100, m = 5, nodes_num=50, perturb_dic = {}, no_attach_init_nodes = True, include_bias_class=False)\n",
    "test_dataloader = dgl.dataloading.GraphDataLoader(data, batch_size = 1, shuffle = True)"
   ]
  },
  {
   "cell_type": "code",
   "execution_count": 10,
   "metadata": {},
   "outputs": [
    {
     "name": "stderr",
     "output_type": "stream",
     "text": [
      "100%|██████████| 30/30 [00:14<00:00,  2.02it/s]\n"
     ]
    }
   ],
   "source": [
    "device = torch.device('cuda:0')\n",
    "prob_list = []\n",
    "true_list = []\n",
    "arg_max_list = []\n",
    "for i in tq(range(30)):\n",
    "    model = torch.load('/home/ubuntu/Maolin/eva_gnn/dgl-gnn-exp/model'+str(i)+'.pkl')\n",
    "    model.to(device)\n",
    "    ground_truth_num_dic = {1:22, 2:24, 3:26}\n",
    "    for g, label in test_dataloader:\n",
    "        g = g.to(device)\n",
    "        '''edge_mask = explain_ig(model, 'graph', g, g.ndata['x'], label)\n",
    "        k = 0 \n",
    "        for i in np.argsort(-edge_mask):\n",
    "            if k < ground_truth_num_dic[label]:\n",
    "                edge_mask[i] = 0\n",
    "            else:\n",
    "                edge_mask[i] = 1\n",
    "            k += 1'''\n",
    "        model_result = model(g, g.ndata['x']).detach().cpu().numpy()[0]\n",
    "        new_g = dgl.remove_nodes(g, list(range(40,50)))\n",
    "        model_result_new = model(new_g, new_g.ndata['x']).detach().cpu().numpy()[0]\n",
    "        prob_list.append([model_result, model_result_new])\n",
    "        true_list.append(int(label==np.argmax(model_result_new)))\n",
    "        arg_max_list.append(int(np.argmax(model_result_new)))"
   ]
  },
  {
   "cell_type": "code",
   "execution_count": 11,
   "metadata": {},
   "outputs": [
    {
     "data": {
      "text/plain": [
       "Counter({0: 3000})"
      ]
     },
     "execution_count": 11,
     "metadata": {},
     "output_type": "execute_result"
    }
   ],
   "source": [
    "Counter(true_list)"
   ]
  },
  {
   "cell_type": "code",
   "execution_count": 12,
   "metadata": {},
   "outputs": [
    {
     "data": {
      "text/plain": [
       "Counter({0: 2997, 3: 3})"
      ]
     },
     "execution_count": 12,
     "metadata": {},
     "output_type": "execute_result"
    }
   ],
   "source": [
    "Counter(arg_max_list)"
   ]
  },
  {
   "cell_type": "code",
   "execution_count": 14,
   "metadata": {},
   "outputs": [
    {
     "data": {
      "text/plain": [
       "(array([2412, 2425, 2458]),)"
      ]
     },
     "execution_count": 14,
     "metadata": {},
     "output_type": "execute_result"
    }
   ],
   "source": [
    "np.where(np.array(arg_max_list)==3)"
   ]
  },
  {
   "cell_type": "markdown",
   "metadata": {},
   "source": [
    "model24会判断为3"
   ]
  },
  {
   "cell_type": "code",
   "execution_count": 19,
   "metadata": {},
   "outputs": [],
   "source": [
    "ori_max = []\n",
    "new_max = []\n",
    "for ori, new in prob_list:\n",
    "    ori_max.append(np.exp(np.max(ori)))\n",
    "    new_max.append(np.exp(np.max(new)))"
   ]
  },
  {
   "cell_type": "code",
   "execution_count": 20,
   "metadata": {},
   "outputs": [
    {
     "data": {
      "image/png": "[encoded data removed]",
      "text/plain": [
       "<Figure size 432x288 with 1 Axes>"
      ]
     },
     "metadata": {
      "needs_background": "light"
     },
     "output_type": "display_data"
    }
   ],
   "source": [
    "plt.hist(ori_max)\n",
    "plt.show()"
   ]
  },
  {
   "cell_type": "code",
   "execution_count": 21,
   "metadata": {},
   "outputs": [
    {
     "data": {
      "image/png": "[encoded data removed]",
      "text/plain": [
       "<Figure size 432x288 with 1 Axes>"
      ]
     },
     "metadata": {
      "needs_background": "light"
     },
     "output_type": "display_data"
    }
   ],
   "source": [
    "plt.hist(new_max)\n",
    "plt.show()"
   ]
  },
  {
   "cell_type": "code",
   "execution_count": null,
   "metadata": {},
   "outputs": [],
   "source": [
    "device = torch.device('cuda:0')\n",
    "prob_list = []\n",
    "true_list = []\n",
    "arg_max_list = []\n",
    "for i in tq(range(30)):\n",
    "    model = torch.load('/home/ubuntu/Maolin/eva_gnn/dgl-gnn-exp/model'+str(i)+'.pkl')\n",
    "    model.to(device)\n",
    "    ground_truth_num_dic = {1:22, 2:24, 3:26}\n",
    "    for g, label in test_dataloader:\n",
    "        g = g.to(device)\n",
    "        '''edge_mask = explain_ig(model, 'graph', g, g.ndata['x'], label)\n",
    "        k = 0 \n",
    "        for i in np.argsort(-edge_mask):\n",
    "            if k < ground_truth_num_dic[label]:\n",
    "                edge_mask[i] = 0\n",
    "            else:\n",
    "                edge_mask[i] = 1\n",
    "            k += 1'''\n",
    "        model_result = model(g, g.ndata['x']).detach().cpu().numpy()[0]\n",
    "        new_g = dgl.remove_nodes(g, list(range(40,50)))\n",
    "        model_result_new = model(new_g, new_g.ndata['x']).detach().cpu().numpy()[0]\n",
    "        prob_list.append([model_result, model_result_new])\n",
    "        true_list.append(int(label==np.argmax(model_result_new)))\n",
    "        arg_max_list.append(int(np.argmax(model_result_new)))"
   ]
  },
  {
   "cell_type": "code",
   "execution_count": 7,
   "metadata": {},
   "outputs": [
    {
     "data": {
      "text/plain": [
       "Net2(\n",
       "  (convs): ModuleList(\n",
       "    (0): GraphConvWL(\n",
       "      (conv_from_neigh): GraphConv(in=1, out=16, normalization=none, activation=None)\n",
       "      (conv_from_self): Linear(in_features=1, out_features=16, bias=False)\n",
       "    )\n",
       "    (1): GraphConvWL(\n",
       "      (conv_from_neigh): GraphConv(in=16, out=16, normalization=none, activation=None)\n",
       "      (conv_from_self): Linear(in_features=16, out_features=16, bias=False)\n",
       "    )\n",
       "  )\n",
       "  (fc): Linear(in_features=16, out_features=4, bias=True)\n",
       ")"
      ]
     },
     "execution_count": 7,
     "metadata": {},
     "output_type": "execute_result"
    }
   ],
   "source": [
    "device = torch.device('cuda:0')\n",
    "model = torch.load('/home/ubuntu/Maolin/eva_gnn/dgl-gnn-exp/model'+str(9)+'.pkl')\n",
    "model.to(device)"
   ]
  },
  {
   "cell_type": "code",
   "execution_count": 3,
   "metadata": {},
   "outputs": [],
   "source": [
    "\n",
    "test_data_1 = []\n",
    "test_data_2 = []\n",
    "test_data_3 = []\n",
    "for g, label in test_dataloader:\n",
    "    if label == 1:\n",
    "        test_data_1.append((g,label))\n",
    "    elif label == 2:\n",
    "        test_data_2.append((g,label))\n",
    "    else:\n",
    "        test_data_3.append((g,label))\n"
   ]
  },
  {
   "cell_type": "code",
   "execution_count": 37,
   "metadata": {},
   "outputs": [
    {
     "name": "stdout",
     "output_type": "stream",
     "text": [
      "38\n"
     ]
    }
   ],
   "source": [
    "print(len(test_data_1))"
   ]
  },
  {
   "cell_type": "markdown",
   "metadata": {},
   "source": [
    "class1 38  \n",
    "class2 25  \n",
    "class3 37  "
   ]
  },
  {
   "cell_type": "code",
   "execution_count": 41,
   "metadata": {},
   "outputs": [
    {
     "data": {
      "image/png": "[encoded data removed]",
      "text/plain": [
       "<Figure size 432x288 with 1 Axes>"
      ]
     },
     "metadata": {
      "needs_background": "light"
     },
     "output_type": "display_data"
    }
   ],
   "source": [
    "for i in range(len(test_data_1)):\n",
    "    g,label = test_data_1[i]\n",
    "    g = g.to(device)\n",
    "    label = label.to(device)\n",
    "    edge_mask = explain_ig(model, 'graph', g, g.ndata['x'], label)\n",
    "\n",
    "    plt.hist(edge_mask,bins = 50,alpha = 0.3)"
   ]
  },
  {
   "cell_type": "code",
   "execution_count": 8,
   "metadata": {},
   "outputs": [
    {
     "name": "stderr",
     "output_type": "stream",
     "text": [
      "100%|██████████| 1/1 [02:04<00:00, 124.03s/it]\n"
     ]
    },
    {
     "data": {
      "image/png": "[encoded data removed]",
      "text/plain": [
       "<Figure size 432x288 with 1 Axes>"
      ]
     },
     "metadata": {
      "needs_background": "light"
     },
     "output_type": "display_data"
    }
   ],
   "source": [
    "for model_num in tq(range(1)):\n",
    "    model = torch.load('/home/ubuntu/Maolin/eva_gnn/dgl-gnn-exp/model'+str(model_num)+'.pkl')\n",
    "    model.to(device)\n",
    "    for class_label in range(1,4):\n",
    "        plt.clf()\n",
    "        for i in range(len(eval('test_data_'+str(class_label)))):\n",
    "            g,label = eval('test_data_'+str(class_label))[i]\n",
    "            g = g.to(device)\n",
    "            label = label.to(device)\n",
    "            edge_mask = explain_ig(model, 'graph', g, g.ndata['x'], label)\n",
    "            plt.hist(edge_mask,bins = 50,alpha = 0.3)\n",
    "        plt.savefig('./model_cut/model-'+str(model_num)+'-class'+str(class_label)+'.png')"
   ]
  },
  {
   "cell_type": "code",
   "execution_count": 66,
   "metadata": {},
   "outputs": [
    {
     "name": "stderr",
     "output_type": "stream",
     "text": [
      "100%|██████████| 100/100 [02:00<00:00,  1.20s/it]\n",
      "100%|██████████| 1/1 [02:00<00:00, 120.27s/it]\n"
     ]
    }
   ],
   "source": [
    "device = torch.device('cuda:0')\n",
    "prob_list = []\n",
    "true_list = []\n",
    "arg_max_list = []\n",
    "class_num = {'1': [],'2' : [],'3' : []}\n",
    "for i in tq([16]):\n",
    "    model = torch.load('/home/ubuntu/Maolin/eva_gnn/dgl-gnn-exp/model'+str(i)+'.pkl')\n",
    "    model.to(device)\n",
    "    ground_truth_num_dic = {1:10, 2:4, 3:1}\n",
    "    for g, label in tq(test_dataloader):\n",
    "        g = g.to(device)\n",
    "        edge_mask = explain_ig(model, 'graph', g, g.ndata['x'], label)\n",
    "        edge_mask[edge_mask<ground_truth_num_dic[int(label)]] = 0\n",
    "        edge_mask[edge_mask>=ground_truth_num_dic[int(label)]] = 1\n",
    "        class_num[str(int(label))].append(np.sum(edge_mask))\n",
    "        model_result = model(g, g.ndata['x']).detach().cpu().numpy()[0]\n",
    "        non_mask_nodes = set()\n",
    "        for j in range(len(edge_mask)):\n",
    "            if edge_mask[j] == 1:\n",
    "                non_mask_nodes.add(g.edges()[0][j])\n",
    "                non_mask_nodes.add(g.edges()[1][j])\n",
    "        new_g = g\n",
    "        for j in range(g.num_nodes()):\n",
    "            if g.nodes()[j] not in non_mask_nodes:\n",
    "                new_g.ndata['x'][j] = 0\n",
    "        model_result_new = model(new_g, new_g.ndata['x']).detach().cpu().numpy()[0]\n",
    "        prob_list.append([model_result, model_result_new])\n",
    "        true_list.append(int(label==np.argmax(model_result_new)))\n",
    "        arg_max_list.append(int(np.argmax(model_result_new)))"
   ]
  },
  {
   "cell_type": "code",
   "execution_count": 54,
   "metadata": {},
   "outputs": [
    {
     "data": {
      "text/plain": [
       "{tensor(5, device='cuda:0'), tensor(40, device='cuda:0')}"
      ]
     },
     "execution_count": 54,
     "metadata": {},
     "output_type": "execute_result"
    }
   ],
   "source": [
    "non_mask_nodes"
   ]
  },
  {
   "cell_type": "code",
   "execution_count": 67,
   "metadata": {},
   "outputs": [
    {
     "name": "stdout",
     "output_type": "stream",
     "text": [
      "20.0\n",
      "21.86842105263158\n",
      "13.5\n"
     ]
    }
   ],
   "source": [
    "print(np.mean(class_num['1']))\n",
    "print(np.mean(class_num['2']))\n",
    "print(np.mean(class_num['3']))"
   ]
  }
 ],
 "metadata": {
  "kernelspec": {
   "display_name": "Python 3.8.0 ('expgnndgl')",
   "language": "python",
   "name": "python3"
  },
  "language_info": {
   "codemirror_mode": {
    "name": "ipython",
    "version": 3
   },
   "file_extension": ".py",
   "mimetype": "text/x-python",
   "name": "python",
   "nbconvert_exporter": "python",
   "pygments_lexer": "ipython3",
   "version": "3.8.0"
  },
  "orig_nbformat": 4,
  "vscode": {
   "interpreter": {
    "hash": "b91fd5d531450f9f66c1b286a62fef5f077805e284adac94e49538db1b8406df"
   }
  }
 },
 "nbformat": 4,
 "nbformat_minor": 2
}
