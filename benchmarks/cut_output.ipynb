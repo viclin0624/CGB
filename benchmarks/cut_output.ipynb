{
 "cells": [
  {
   "cell_type": "code",
   "execution_count": 10,
   "metadata": {},
   "outputs": [],
   "source": [
    "import json\n",
    "import os\n",
    "import tempfile\n",
    "import time\n",
    "\n",
    "import networkx as nx\n",
    "import torch\n",
    "from torch import nn\n",
    "import torch.nn.functional as F\n",
    "import sys\n",
    "import dgl\n",
    "import numpy as np\n",
    "import pandas as pd\n",
    "from tqdm import tqdm as tq\n",
    "import mlflow\n",
    "from collections import defaultdict\n",
    "sys.path.append('..')\n",
    "from model.models_dgl import FixedNet\n",
    "\n",
    "from build_graph import BA4labelDataset,build_graph\n",
    "from benchmark_dgl import Benchmark\n",
    "from method.explain_methods_dgl import explain_random\n",
    "\n",
    "def generate_single_sample(label, perturb_type, nodes_num = 25, m = 1, perturb_dic = {}, \n",
    "    seed = None, no_attach_init_nodes=False):\n",
    "    '''\n",
    "    This function is for test model return a networkx instance.\n",
    "    '''\n",
    "    basis_type = \"ba\"\n",
    "    which_type = label\n",
    "    if which_type == 0:\n",
    "        if perturb_type == 0:\n",
    "            G, role_id, plug_id = build_graph(nodes_num, basis_type, [], start = 0, m = m, seed = seed, no_attach_init_nodes=no_attach_init_nodes)\n",
    "        else:\n",
    "            G, role_id, plug_id = build_graph(nodes_num - perturb_type, basis_type, [[perturb_dic[perturb_type]]], start = 0, m = m, seed = seed, no_attach_init_nodes=no_attach_init_nodes)\n",
    "    else:\n",
    "        list_shapes = [[\"house\"]] * (which_type - 1) + [[\"five_cycle\"]] * (3 - which_type)\n",
    "        if perturb_type != 0:\n",
    "            list_shapes = list_shapes + [[perturb_dic[perturb_type]]]\n",
    "        G, role_id, plug_id = build_graph(nodes_num-10-perturb_type, basis_type, list_shapes, start = 0, m = m, seed = seed, no_attach_init_nodes=no_attach_init_nodes)\n",
    "    return G\n",
    "def test_model_output_distribution(graph_class,graph_num):\n",
    "    model_fixed = FixedNet(1, 4, 2, False, 'GraphConvWL')\n",
    "    model_fixed.set_paramerters()\n",
    "    device = torch.device('cuda')\n",
    "    model_fixed = model_fixed.to(device)\n",
    "    model_fixed.unuse_report()\n",
    "    result = []\n",
    "    for i in range(graph_num):\n",
    "        G = generate_single_sample(graph_class, 0, nodes_num = 50, m = 6, perturb_dic = {}, no_attach_init_nodes = True)\n",
    "        G = dgl.from_networkx(G)\n",
    "        cut_index = np.random.choice(list(range(G.num_edges())))\n",
    "        G = dgl.remove_edges(G, cut_index)\n",
    "        G = G.to(device)\n",
    "        result.append(model_fixed(G, torch.ones((50,1)).to(device)).cpu().item())\n",
    "    return result\n"
   ]
  },
  {
   "cell_type": "code",
   "execution_count": 11,
   "metadata": {},
   "outputs": [],
   "source": [
    "import matplotlib.pyplot as plt\n",
    "from collections import Counter"
   ]
  },
  {
   "cell_type": "code",
   "execution_count": 12,
   "metadata": {},
   "outputs": [
    {
     "data": {
      "text/plain": [
       "Counter({0.0: 9998, 3.0: 2})"
      ]
     },
     "execution_count": 12,
     "metadata": {},
     "output_type": "execute_result"
    },
    {
     "data": {
      "image/png": "[encoded data removed]",
      "text/plain": [
       "<Figure size 432x288 with 1 Axes>"
      ]
     },
     "metadata": {
      "needs_background": "light"
     },
     "output_type": "display_data"
    }
   ],
   "source": [
    "result0 = test_model_output_distribution(0,10000)\n",
    "plt.hist(result0)\n",
    "Counter(result0)"
   ]
  },
  {
   "cell_type": "code",
   "execution_count": 13,
   "metadata": {},
   "outputs": [
    {
     "data": {
      "text/plain": [
       "Counter({20.0: 9453, 22.0: 402, 21.0: 91, 25.0: 51, 23.0: 3})"
      ]
     },
     "execution_count": 13,
     "metadata": {},
     "output_type": "execute_result"
    },
    {
     "data": {
      "image/png": "[encoded data removed]",
      "text/plain": [
       "<Figure size 432x288 with 1 Axes>"
      ]
     },
     "metadata": {
      "needs_background": "light"
     },
     "output_type": "display_data"
    }
   ],
   "source": [
    "result0 = test_model_output_distribution(1,10000)\n",
    "plt.hist(result0)\n",
    "Counter(result0)"
   ]
  },
  {
   "cell_type": "code",
   "execution_count": 14,
   "metadata": {},
   "outputs": [
    {
     "data": {
      "text/plain": [
       "Counter({15.0: 70, 14.0: 9452, 16.0: 252, 17.0: 156, 19.0: 48, 18.0: 22})"
      ]
     },
     "execution_count": 14,
     "metadata": {},
     "output_type": "execute_result"
    },
    {
     "data": {
      "image/png": "[encoded data removed]",
      "text/plain": [
       "<Figure size 432x288 with 1 Axes>"
      ]
     },
     "metadata": {
      "needs_background": "light"
     },
     "output_type": "display_data"
    }
   ],
   "source": [
    "result0 = test_model_output_distribution(2,10000)\n",
    "plt.hist(result0)\n",
    "Counter(result0)"
   ]
  },
  {
   "cell_type": "code",
   "execution_count": 15,
   "metadata": {},
   "outputs": [
    {
     "data": {
      "text/plain": [
       "Counter({8.0: 9384, 13.0: 41, 11.0: 319, 10.0: 164, 9.0: 41, 12.0: 51})"
      ]
     },
     "execution_count": 15,
     "metadata": {},
     "output_type": "execute_result"
    },
    {
     "data": {
      "image/png": "[encoded data removed]",
      "text/plain": [
       "<Figure size 432x288 with 1 Axes>"
      ]
     },
     "metadata": {
      "needs_background": "light"
     },
     "output_type": "display_data"
    }
   ],
   "source": [
    "result0 = test_model_output_distribution(3,10000)\n",
    "plt.hist(result0)\n",
    "Counter(result0)"
   ]
  }
 ],
 "metadata": {
  "interpreter": {
   "hash": "b91fd5d531450f9f66c1b286a62fef5f077805e284adac94e49538db1b8406df"
  },
  "kernelspec": {
   "display_name": "Python 3.8.0 ('expgnndgl')",
   "language": "python",
   "name": "python3"
  },
  "language_info": {
   "codemirror_mode": {
    "name": "ipython",
    "version": 3
   },
   "file_extension": ".py",
   "mimetype": "text/x-python",
   "name": "python",
   "nbconvert_exporter": "python",
   "pygments_lexer": "ipython3",
   "version": "3.8.0"
  },
  "orig_nbformat": 4
 },
 "nbformat": 4,
 "nbformat_minor": 2
}
