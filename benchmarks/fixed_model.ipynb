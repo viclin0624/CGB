{
 "cells": [
  {
   "cell_type": "code",
   "execution_count": 27,
   "metadata": {},
   "outputs": [],
   "source": [
    "import networkx as nx\n",
    "import torch\n",
    "import torch.nn.functional as F\n",
    "from torch.nn import Sequential, Linear, ReLU\n",
    "import sys\n",
    "from dgl.nn import GraphConv#instead of GCNConv in PyG\n",
    "import dgl\n",
    "sys.path.append('..')\n",
    "from model.models_dgl import GraphConvWL\n",
    "from ba4label_dgl_total import *\n",
    "\n",
    "from torch import nn\n",
    "def generate_single_sample(label, perturb_type, nodes_num = 25, m = 1, perturb_dic = {}, \n",
    "seed = None):\n",
    "    '''\n",
    "    return a networkx instance\n",
    "    '''\n",
    "    basis_type = \"ba\"\n",
    "    which_type = label\n",
    "    if which_type == 0:\n",
    "        if perturb_type == 0:\n",
    "            G, role_id, plug_id = build_graph(nodes_num, basis_type, [], start = 0, m = m, seed = seed)\n",
    "        else:\n",
    "            G, role_id, plug_id = build_graph(nodes_num - perturb_type, basis_type, [[perturb_dic[perturb_type]]], start = 0, m = m, seed = seed)\n",
    "    else:\n",
    "        list_shapes = [[\"house\"]] * (which_type - 1) + [[\"five_cycle\"]] * (3 - which_type)\n",
    "        if perturb_type != 0:\n",
    "            list_shapes = list_shapes + [[perturb_dic[perturb_type]]]\n",
    "        G, role_id, plug_id = build_graph(nodes_num-10-perturb_type, basis_type, list_shapes, start = 0, m = m, seed = seed)\n",
    "    return G\n",
    "\n",
    "class FixedNet(nn.Module):\n",
    "    def __init__(self, num_node_features, num_classes, num_layers, concat_features, conv_type):\n",
    "        super(FixedNet, self).__init__()\n",
    "        dim = 1\n",
    "        self.convs = torch.nn.ModuleList()\n",
    "        if conv_type == 'GraphConvWL':#'GCNConv':\n",
    "            conv_class = GraphConvWL\n",
    "            #kwargs = {'add_self_loops': False}\n",
    "        elif conv_type == 'GraphConv':\n",
    "            conv_class = GraphConv\n",
    "            kwargs = {}\n",
    "        else:\n",
    "            raise RuntimeError(f\"conv_type {conv_type} not supported\")\n",
    "\n",
    "        self.convs.append(conv_class(num_node_features, dim, bias = False))#, **kwargs))\n",
    "        for i in range(num_layers - 1):\n",
    "            self.convs.append(conv_class(dim, dim, bias = False))#, **kwargs))\n",
    "        self.concat_features = concat_features\n",
    "\n",
    "\n",
    "    def forward(self, g, x):\n",
    "        '''\n",
    "        g: DGL Graph\n",
    "        x: node feature\n",
    "        '''\n",
    "        xs = [x]\n",
    "        for conv in self.convs:\n",
    "            x = conv(g, x)\n",
    "            x = F.relu(x)\n",
    "            xs.append(x)\n",
    "        if self.concat_features:\n",
    "            x = torch.cat(xs, dim=1)\n",
    "        g.ndata['h'] = x\n",
    "        hg = dgl.mean_nodes(g, 'h')\n",
    "        return hg, xs"
   ]
  },
  {
   "cell_type": "code",
   "execution_count": 40,
   "metadata": {},
   "outputs": [
    {
     "data": {
      "image/png": "[encoded data removed]",
      "text/plain": [
       "<Figure size 432x288 with 1 Axes>"
      ]
     },
     "metadata": {},
     "output_type": "display_data"
    }
   ],
   "source": [
    "nodes_num = 25\n",
    "G = generate_single_sample(3, 4, nodes_num, perturb_dic = {4:'square_diagonal'}, seed = 0)\n",
    "pos = nx.spring_layout(G, seed = 0)\n",
    "nx.draw(G, pos, with_labels = True, font_color = 'white')"
   ]
  },
  {
   "cell_type": "code",
   "execution_count": 41,
   "metadata": {},
   "outputs": [],
   "source": [
    "model1 = FixedNet(1, 4, 1, True, 'GraphConvWL')\n",
    "model2 = FixedNet(1, 4, 2, True, 'GraphConvWL')\n",
    "model3 = FixedNet(1, 4, 3, True, 'GraphConvWL')\n",
    "model4 = FixedNet(1, 4, 4, True, 'GraphConvWL')\n",
    "for i in range(1, 5):\n",
    "    for p in eval('model'+str(i)).parameters():\n",
    "        torch.nn.init.constant_(p, 1)"
   ]
  },
  {
   "cell_type": "code",
   "execution_count": 42,
   "metadata": {},
   "outputs": [
    {
     "name": "stdout",
     "output_type": "stream",
     "text": [
      "tensor([[5.],\n",
      "        [3.],\n",
      "        [5.],\n",
      "        [3.],\n",
      "        [3.],\n",
      "        [3.],\n",
      "        [3.],\n",
      "        [2.],\n",
      "        [3.],\n",
      "        [2.],\n",
      "        [2.],\n",
      "        [5.],\n",
      "        [4.],\n",
      "        [3.],\n",
      "        [3.],\n",
      "        [3.],\n",
      "        [5.],\n",
      "        [4.],\n",
      "        [3.],\n",
      "        [3.],\n",
      "        [3.],\n",
      "        [5.],\n",
      "        [3.],\n",
      "        [4.],\n",
      "        [3.]], grad_fn=<ReluBackward0>)\n"
     ]
    }
   ],
   "source": [
    "output1, h1 = model1(dgl.from_networkx(G), torch.ones((nodes_num,1)))\n",
    "print(h1[1])"
   ]
  }
 ],
 "metadata": {
  "interpreter": {
   "hash": "b91fd5d531450f9f66c1b286a62fef5f077805e284adac94e49538db1b8406df"
  },
  "kernelspec": {
   "display_name": "Python 3.8.0 64-bit ('expgnndgl': conda)",
   "language": "python",
   "name": "python3"
  },
  "language_info": {
   "codemirror_mode": {
    "name": "ipython",
    "version": 3
   },
   "file_extension": ".py",
   "mimetype": "text/x-python",
   "name": "python",
   "nbconvert_exporter": "python",
   "pygments_lexer": "ipython3",
   "version": "3.8.0"
  },
  "orig_nbformat": 4
 },
 "nbformat": 4,
 "nbformat_minor": 2
}
