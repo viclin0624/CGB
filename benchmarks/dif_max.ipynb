{
 "cells": [
  {
   "cell_type": "code",
   "execution_count": 1,
   "metadata": {},
   "outputs": [
    {
     "name": "stderr",
     "output_type": "stream",
     "text": [
      "Using backend: pytorch\n"
     ]
    },
    {
     "name": "stdout",
     "output_type": "stream",
     "text": [
      "50 5\n"
     ]
    }
   ],
   "source": [
    "import json\n",
    "import os\n",
    "import tempfile\n",
    "import time\n",
    "from matplotlib.collections import Collection\n",
    "from copy import deepcopy\n",
    "import networkx as nx\n",
    "import torch\n",
    "from torch import nn\n",
    "import torch.nn.functional as F\n",
    "import sys\n",
    "import dgl\n",
    "import numpy as np\n",
    "import pandas as pd\n",
    "from tqdm import tqdm as tq\n",
    "import mlflow\n",
    "from collections import defaultdict\n",
    "sys.path.append('..')\n",
    "from model.models_dgl import FixedNet2\n",
    "from collections import Counter\n",
    "from benchmarks.build_graph import BA4labelDataset,build_graph\n",
    "from benchmarks.benchmark_dgl import Benchmark\n",
    "from method.explain_methods_dgl import explain_random, explain_ig, explain_sa, explain_gnnexplainer, explain_pgmexplainer\n",
    "import matplotlib.pyplot as plt\n",
    "def draw_explanation(g, edge_mask):\n",
    "    plt.figure(figsize=(25,25),edgecolor='g')\n",
    "    fig,ax = plt.subplots(figsize=(10,10))\n",
    "    g = g.to(torch.device('cpu'))\n",
    "    g.edata['weight'] = torch.tensor(edge_mask)\n",
    "    g_nx = dgl.to_networkx(g,edge_attrs=['weight']) \n",
    "    edges = g_nx.edges()\n",
    "    weights = [g_nx[u][v][0]['weight']*0.5+0.2 for u,v in edges]\n",
    "    pos = nx.spring_layout(g_nx)\n",
    "    nx.draw_networkx_nodes(g_nx,pos)\n",
    "    nx.draw_networkx_edges(g_nx,pos, width=weights,connectionstyle=\"arc3,rad=0.3\")\n",
    "\n",
    "class BA4label(Benchmark):\n",
    "    NUM_TRAIN_GRAPHS = 1000\n",
    "    NUM_NODES = 50\n",
    "    TEST_RATIO = 0.001\n",
    "    LR = 0.003\n",
    "    M = 5\n",
    "    print(NUM_NODES,M)\n",
    "    NO_ATTACH_INIT_NODES = True\n",
    "\n",
    "    @staticmethod\n",
    "    def get_accuracy(g, correct_ids, edge_mask):\n",
    "        '''\n",
    "        edge_index: 2 elements tuple, u and v\n",
    "        '''\n",
    "        if correct_ids == []:\n",
    "            if np.all(np.mean(edge_mask) == edge_mask):\n",
    "                return 1\n",
    "            else:\n",
    "                return 0\n",
    "        else:\n",
    "            correct_edges = set()\n",
    "            for i in range(g.num_edges()):\n",
    "                u = g.edges()[0][i].item()\n",
    "                v = g.edges()[1][i].item()\n",
    "                if u in correct_ids and v in correct_ids: #每个双向边都计入，是否要将边缘的边改为只计入一遍？\n",
    "                    correct_edges.add((u,v))\n",
    "                    correct_edges.add((v,u))\n",
    "                elif v in correct_ids:\n",
    "                    correct_edges.add((u,v))\n",
    "                else:\n",
    "                    continue\n",
    "            #按照单向边来计算\n",
    "            correct_count = 0\n",
    "            for x in np.argsort(-edge_mask)[:len(correct_edges)]:\n",
    "                u = g.edges()[0][x].item()\n",
    "                v = g.edges()[1][x].item()\n",
    "                if (u, v) in correct_edges:\n",
    "                    correct_count += 1\n",
    "            #双向边只要对一条就算对 注意 此时正确边要包含每个双向边\n",
    "            '''\n",
    "            mask_edges = set()\n",
    "            for x in np.argsort(-edge_mask)[:len(correct_edges)]:\n",
    "                u = g.edges[0][x].item()\n",
    "                v = g.edges[1][x].item()\n",
    "                if ( (u, v) in correct_edges or (v, u) in correct_edges ) and (v, u) not in mask_edges:\n",
    "                    mask_edges.add((v,u))\n",
    "                    correct_count += 2\n",
    "            '''\n",
    "            return correct_count / len(correct_edges)\n",
    "\n",
    "    def create_dataset(self, graphs_num, m = 6, nodes_num = 50, include_bias_class = True):\n",
    "        '''\n",
    "        Return data\n",
    "        '''\n",
    "        data = BA4labelDataset(graphs_num=graphs_num, m = m, nodes_num=nodes_num, perturb_dic = {}, no_attach_init_nodes = True, include_bias_class=include_bias_class)\n",
    "        print('created one')\n",
    "        return data\n",
    "\n",
    "    def is_trained_model_valid(self, test_acc):\n",
    "        return test_acc == 1\n",
    "\n",
    "    def evaluate_explanation(self, explain_function, model, test_dataset, explain_name, iteration = 1, summarytype = 'sum'):\n",
    "        accs = []\n",
    "        tested_graphs = 0\n",
    "        accs1 = []\n",
    "        accs2 = []\n",
    "        accs3 = []\n",
    "        accs4 = []\n",
    "        for g, label in tq(test_dataset):\n",
    "            g = g.to(self.device)\n",
    "            tested_graphs += 1\n",
    "            edge_mask = explain_function(model, 'graph', g, g.ndata['x'], label)\n",
    "\n",
    "            if iteration != 1:\n",
    "                edge_mask_list = [deepcopy(edge_mask)]\n",
    "                for _ in range(1,iteration):\n",
    "                    new_edge_mask = explain_function(model, 'graph', g, g.ndata['x'], label)\n",
    "                    edge_mask_list.append(new_edge_mask)\n",
    "                \n",
    "                for summarytype in ['sum','count13','count26','rank']:\n",
    "                    edge_mask = deepcopy(edge_mask_list[0])\n",
    "                    if summarytype == 'sum':\n",
    "                        for i in range(1, iteration):\n",
    "                            edge_mask += edge_mask_list[i]\n",
    "                        sum_edge_mask = edge_mask\n",
    "                    if summarytype == 'count26':#influence by threshold and not be appropriate to stable method\n",
    "                        top_edges_index = list(np.argsort(-edge_mask)[:26])\n",
    "                        for j in range(1, iteration):\n",
    "                            edge_mask = edge_mask_list[j]\n",
    "                            top_edges_index.extend(list(np.argsort(-edge_mask)[:26]))\n",
    "                        edges_index_dic = Counter(top_edges_index)\n",
    "                        edge_mask = np.zeros(g.num_edges())\n",
    "                        for k,v in edges_index_dic.items():\n",
    "                            edge_mask[k] = v \n",
    "                        count26_edge_mask = edge_mask\n",
    "                    if summarytype == 'rank':\n",
    "                        edges_index = np.argsort(-edge_mask)\n",
    "                        edges_rank = {}\n",
    "                        for i in range(len(edges_index)):\n",
    "                            edges_rank[edges_index[i]] = i\n",
    "                        for j in range(1, iteration):\n",
    "                            edge_mask = edge_mask_list[j]\n",
    "                            edges_index = np.argsort(-edge_mask)\n",
    "                            for i in range(len(edges_index)):\n",
    "                                edges_rank[edges_index[i]] += i\n",
    "                        edge_mask = []\n",
    "                        for i in range(g.num_edges()):\n",
    "                            edge_mask.append(edges_rank[i])\n",
    "                        edge_mask = -np.array(edge_mask)\n",
    "                        rank_edge_mask = edge_mask\n",
    "                    if summarytype == 'count13':#influence by threshold and not be appropriate to stable method\n",
    "                        top_edges_index = list(np.argsort(-edge_mask)[:13])\n",
    "                        for j in range(1, iteration):\n",
    "                            edge_mask = edge_mask_list[j]\n",
    "                            top_edges_index.extend(list(np.argsort(-edge_mask)[:13]))\n",
    "                        edges_index_dic = Counter(top_edges_index)\n",
    "                        edge_mask = np.zeros(g.num_edges())\n",
    "                        for k,v in edges_index_dic.items():\n",
    "                            edge_mask[k] = v \n",
    "                        count13_edge_mask = edge_mask\n",
    "                if label == 0:\n",
    "                    correct_ids = []\n",
    "                else:\n",
    "                    correct_ids = [x for x in range(len(g.nodes())-10,len(g.nodes()))]\n",
    "                explain_acc = self.get_accuracy(g, correct_ids, sum_edge_mask)\n",
    "                accs1.append(explain_acc)\n",
    "                explain_acc = self.get_accuracy(g, correct_ids, count13_edge_mask)\n",
    "                accs2.append(explain_acc)\n",
    "                explain_acc = self.get_accuracy(g, correct_ids, rank_edge_mask)\n",
    "                accs3.append(explain_acc)\n",
    "                explain_acc = self.get_accuracy(g, correct_ids, count26_edge_mask)\n",
    "                accs4.append(explain_acc)\n",
    "                edge_mask = edge_mask_list[0]\n",
    "                \n",
    "            if label == 0:\n",
    "                correct_ids = []\n",
    "            else:\n",
    "                correct_ids = [x for x in range(len(g.nodes())-10,len(g.nodes()))]\n",
    "\n",
    "            explain_acc = self.get_accuracy(g, correct_ids, edge_mask)\n",
    "            draw_explanation(g, edge_mask)\n",
    "            g = g.to(self.device)\n",
    "            accs.append(explain_acc)\n",
    "        if iteration != 1:\n",
    "            return accs,accs1,accs2,accs3,accs4\n",
    "        return accs\n",
    "\n",
    "    def train(self, model, optimizer, train_loader):\n",
    "        #need to train\n",
    "        loss_all = 0\n",
    "        for g, label in train_loader:\n",
    "            g = g.to(self.device)\n",
    "            label = label.to(self.device)\n",
    "            optimizer.zero_grad()\n",
    "            output = model(g, g.ndata['x'])\n",
    "            loss = F.nll_loss(output.float(), label)\n",
    "            loss.backward()\n",
    "            loss_all += loss.item()\n",
    "            optimizer.step()\n",
    "        return loss_all / len(train_loader)\n",
    "\n",
    "\n",
    "    def test(self, model, loader):\n",
    "        model.eval()\n",
    "\n",
    "        correct = 0\n",
    "        total = 0\n",
    "        for g, label in loader:\n",
    "            g = g.to(self.device)\n",
    "            label = label.to(self.device)\n",
    "            output = model(g, g.ndata['x'])\n",
    "            pred = output.max(dim=1)[1]\n",
    "            correct += pred.eq(label).sum().item()\n",
    "            total += len(label)\n",
    "        return correct / total\n",
    "\n",
    "    def train_and_test(self, model, train_loader, test_loader):\n",
    "        optimizer = torch.optim.Adam(model.parameters(), lr=self.LR, weight_decay=self.WEIGHT_DECAY)\n",
    "        mlflow.log_param('weight_decay', self.WEIGHT_DECAY)\n",
    "        mlflow.log_param('lr', self.LR)\n",
    "        mlflow.log_param('epochs', self.EPOCHS)\n",
    "        pbar = tq(range(self.EPOCHS))\n",
    "        for epoch in pbar:\n",
    "            train_loss = self.train(model, optimizer, train_loader)\n",
    "            train_acc = self.test(model, train_loader)\n",
    "            test_acc = self.test(model, test_loader)\n",
    "            pbar.set_postfix(train_loss=train_loss, train_acc=train_acc, test_acc=test_acc)\n",
    "        return train_acc, test_acc\n",
    "\n",
    "\n",
    "    def run(self):\n",
    "        print(f\"Using device {self.device}\")\n",
    "        benchmark_name = self.__class__.__name__\n",
    "        all_explanations = defaultdict(list)\n",
    "        all_runtimes = defaultdict(list)\n",
    "        for experiment_i in range(1):\n",
    "            train_dataset = self.create_dataset(self.NUM_TRAIN_GRAPHS, self.M, self.NUM_NODES, include_bias_class = True)\n",
    "            test_dataset = self.create_dataset(int(self.NUM_TRAIN_GRAPHS*self.TEST_RATIO), self.M, self.NUM_NODES, include_bias_class = False)\n",
    "\n",
    "            train_dataloader = dgl.dataloading.GraphDataLoader(train_dataset, batch_size = 32, shuffle = True)\n",
    "            test_dataloader = dgl.dataloading.GraphDataLoader(test_dataset, batch_size = 1, shuffle = True)\n",
    "            model = Net2(1, 4, 2, False, 'GraphConvWL').to(self.device)\n",
    "            model.to(self.device)\n",
    "            train_acc, test_acc = self.train_and_test(model, train_dataloader, test_dataloader)\n",
    "            if not self.is_trained_model_valid(test_acc):\n",
    "                print('Model accuracy was not valid, ignoring this experiment')\n",
    "                continue\n",
    "            model.eval()\n",
    "            metrics = {\n",
    "                'train_acc': train_acc,\n",
    "                'test_acc': test_acc,\n",
    "            }\n",
    "            mlflow.log_metrics(metrics, step=experiment_i)\n",
    "\n",
    "            for explain_name in self.METHODS:\n",
    "                explain_function = eval('explain_' + explain_name)\n",
    "                duration_samples = []\n",
    "\n",
    "                def time_wrapper(*args, **kwargs):\n",
    "                    start_time = time.time()\n",
    "                    result = explain_function(*args, **kwargs)\n",
    "                    end_time = time.time()\n",
    "                    duration_seconds = end_time - start_time\n",
    "                    duration_samples.append(duration_seconds)\n",
    "                    return result\n",
    "\n",
    "                time_wrapper.explain_function = explain_function\n",
    "                accs = self.evaluate_explanation(time_wrapper, model, test_dataset, explain_name)\n",
    "                print(f'Benchmark:{benchmark_name} Run #{experiment_i + 1}, Explain Method: {explain_name}, Accuracy: {np.mean(accs)}')\n",
    "\n",
    "                all_explanations[explain_name].append(list(accs))\n",
    "                all_runtimes[explain_name].extend(duration_samples)\n",
    "                metrics = {\n",
    "                    f'explain_{explain_name}_acc': np.mean(accs),\n",
    "                    f'time_{explain_name}_s_avg': np.mean(duration_samples),\n",
    "                }\n",
    "                with tempfile.TemporaryDirectory() as tmpdir:\n",
    "                    file_path = os.path.join(tmpdir, 'accuracies.json')\n",
    "                    json.dump(all_explanations, open(file_path, 'w'), indent=2)\n",
    "                    mlflow.log_artifact(file_path)\n",
    "                mlflow.log_metrics(metrics, step=experiment_i)\n",
    "\n",
    "                '''iteration_num = 10\n",
    "                summary_type = 'sum'\n",
    "\n",
    "                time_wrapper.explain_function = explain_function\n",
    "                accs, accs1, accs2, accs3, accs4 = self.evaluate_explanation(time_wrapper, model, test_dataset, explain_name, iteration = iteration_num, summarytype = summary_type)\n",
    "                print(f'Benchmark:{benchmark_name} Run #{experiment_i + 1}, Explain Method: {explain_name}+{iteration_num}, Accuracy: {np.mean(accs)}')\n",
    "                print(f'Benchmark:{benchmark_name} Run #{experiment_i + 1}, Explain Method: {explain_name}+{iteration_num}+sum, Accuracy: {np.mean(accs1)}')\n",
    "                print(f'Benchmark:{benchmark_name} Run #{experiment_i + 1}, Explain Method: {explain_name}+{iteration_num}+count13, Accuracy: {np.mean(accs2)}')\n",
    "                print(f'Benchmark:{benchmark_name} Run #{experiment_i + 1}, Explain Method: {explain_name}+{iteration_num}+rank, Accuracy: {np.mean(accs3)}')\n",
    "                print(f'Benchmark:{benchmark_name} Run #{experiment_i + 1}, Explain Method: {explain_name}+{iteration_num}+count26, Accuracy: {np.mean(accs4)}')\n",
    "                \n",
    "                all_explanations[explain_name].append(list(accs))\n",
    "                all_explanations[explain_name+str(iteration_num)+'sum'].append(list(accs1))\n",
    "                all_explanations[explain_name+str(iteration_num)+'count13'].append(list(accs2))\n",
    "                all_explanations[explain_name+str(iteration_num)+'rank'].append(list(accs3))\n",
    "                all_explanations[explain_name+str(iteration_num)+'count26'].append(list(accs4))\n",
    "                \n",
    "                all_runtimes[explain_name].extend(duration_samples)\n",
    "                all_runtimes[explain_name+str(iteration_num)+'sum'].extend(duration_samples)\n",
    "                all_runtimes[explain_name+str(iteration_num)+'count13'].extend(duration_samples)\n",
    "                all_runtimes[explain_name+str(iteration_num)+'rank'].extend(duration_samples)\n",
    "                all_runtimes[explain_name+str(iteration_num)+'count26'].extend(duration_samples)\n",
    "\n",
    "                metrics = {\n",
    "                    f'explain_{explain_name}_acc': np.mean(accs),\n",
    "                    f'time_{explain_name}_{iteration_num}_avg': np.mean(duration_samples),\n",
    "\n",
    "                    f'explain_{explain_name}_{iteration_num}_sum_acc': np.mean(accs1),\n",
    "                    f'time_{explain_name}_{iteration_num}_sum_avg': np.mean(duration_samples),\n",
    "                    \n",
    "                    f'explain_{explain_name}_{iteration_num}_count13_acc': np.mean(accs2),\n",
    "                    f'time_{explain_name}_{iteration_num}_count13_avg': np.mean(duration_samples),\n",
    "                    \n",
    "                    f'explain_{explain_name}_{iteration_num}_rank_acc': np.mean(accs3),\n",
    "                    f'time_{explain_name}_{iteration_num}_rank_avg': np.mean(duration_samples),\n",
    "\n",
    "                    f'explain_{explain_name}_{iteration_num}_count26_acc': np.mean(accs4),\n",
    "                    f'time_{explain_name}_{iteration_num}_count26_avg': np.mean(duration_samples),\n",
    "                }\n",
    "                with tempfile.TemporaryDirectory() as tmpdir:\n",
    "                    file_path = os.path.join(tmpdir, 'accuracies.json')\n",
    "                    json.dump(all_explanations, open(file_path, 'w'), indent=2)\n",
    "                    mlflow.log_artifact(file_path)\n",
    "                mlflow.log_metrics(metrics, step=experiment_i)'''\n",
    "\n",
    "\n",
    "            print(f'Benchmark:{benchmark_name} Run #{experiment_i + 1} finished. Average Explanation Accuracies for each method:')\n",
    "            accuracies_summary = {}\n",
    "            for name, run_accs in all_explanations.items():\n",
    "                run_accs = [np.mean(single_run_acc) for single_run_acc in run_accs]\n",
    "                accuracies_summary[name] = {'avg': np.mean(run_accs), 'std': np.std(run_accs), 'count': len(run_accs)}\n",
    "                print(f'{name} : avg:{np.mean(run_accs)} std:{np.std(run_accs)}')\n",
    "            runtime_summary = {}\n",
    "            for name, runtimes in all_runtimes.items():\n",
    "                runtime_summary[name] = {'avg': np.mean(runtimes), 'std': np.std(runtimes)}\n",
    "            with tempfile.TemporaryDirectory() as tmpdir:\n",
    "                file_path = os.path.join(tmpdir, 'summary.json')\n",
    "                summary = {'accuracies': accuracies_summary, 'runtime': runtime_summary}\n",
    "                json.dump(summary, open(file_path, 'w'), indent=2)\n",
    "                mlflow.log_artifact(file_path)"
   ]
  },
  {
   "cell_type": "code",
   "execution_count": 13,
   "metadata": {},
   "outputs": [],
   "source": [
    "data = BA4labelDataset(graphs_num=100, m = 5, nodes_num=50, perturb_dic = {}, no_attach_init_nodes = True, include_bias_class=False)\n",
    "test_dataloader = dgl.dataloading.GraphDataLoader(data, batch_size = 1, shuffle = True)"
   ]
  },
  {
   "cell_type": "code",
   "execution_count": 14,
   "metadata": {},
   "outputs": [
    {
     "name": "stderr",
     "output_type": "stream",
     "text": [
      " 10%|█         | 3/30 [06:10<55:30, 123.35s/it]<ipython-input-14-51701b95f2da>:13: RuntimeWarning: divide by zero encountered in float_scalars\n",
      "  div = np.sort(model_result)[-2]/np.max(model_result)\n",
      "100%|██████████| 30/30 [1:01:21<00:00, 122.73s/it]\n"
     ]
    }
   ],
   "source": [
    "device = torch.device('cuda:0')\n",
    "dif_list = []\n",
    "div_list = []\n",
    "acc_list = []\n",
    "for i in tq(range(30)):\n",
    "    model = torch.load('/home/ubuntu/Maolin/eva_gnn/dgl-gnn-exp/model'+str(i)+'.pkl')\n",
    "    model.to(device)\n",
    "    for g, label in test_dataloader:\n",
    "        g = g.to(device)\n",
    "        edge_mask = explain_ig(model, 'graph', g, g.ndata['x'], label)\n",
    "        model_result = model(g, g.ndata['x']).detach().cpu().numpy()[0]\n",
    "        dif = np.max(model_result)-np.sort(model_result)[-2]\n",
    "        div = np.sort(model_result)[-2]/np.max(model_result)\n",
    "        acc = BA4label.get_accuracy(g, list(range(g.num_nodes()-10, g.num_nodes())), edge_mask)\n",
    "        dif_list.append(dif)\n",
    "        div_list.append(div)\n",
    "        acc_list.append(acc)\n"
   ]
  },
  {
   "cell_type": "code",
   "execution_count": 23,
   "metadata": {},
   "outputs": [],
   "source": [
    "div_list = np.array(div_list)\n",
    "div_list[div_list==3.4*(10**38)]=-np.Inf"
   ]
  },
  {
   "cell_type": "code",
   "execution_count": 33,
   "metadata": {},
   "outputs": [],
   "source": [
    "ignore_index = []\n",
    "for i in range(len(div_list)):\n",
    "    if div_list[i] == max(div_list):\n",
    "        ignore_index.append(i)"
   ]
  },
  {
   "cell_type": "code",
   "execution_count": 40,
   "metadata": {},
   "outputs": [],
   "source": [
    "ingore_div_list = np.delete(div_list, ignore_index)\n",
    "ingore_acc_list = np.delete(acc_list, ignore_index)\n"
   ]
  },
  {
   "cell_type": "code",
   "execution_count": 39,
   "metadata": {},
   "outputs": [
    {
     "data": {
      "image/png": "[encoded data removed]",
      "text/plain": [
       "<Figure size 432x288 with 1 Axes>"
      ]
     },
     "metadata": {
      "needs_background": "light"
     },
     "output_type": "display_data"
    }
   ],
   "source": [
    "plt.hist(np.log10(ingore_div_list), bins = [i for i in range(10)],density = True)\n",
    "plt.xticks([i for i in range(10)])\n",
    "plt.show()"
   ]
  },
  {
   "cell_type": "code",
   "execution_count": 57,
   "metadata": {},
   "outputs": [
    {
     "data": {
      "image/png": "[encoded data removed]",
      "text/plain": [
       "<Figure size 432x288 with 1 Axes>"
      ]
     },
     "metadata": {
      "needs_background": "light"
     },
     "output_type": "display_data"
    }
   ],
   "source": [
    "weight = np.ones_like(ingore_acc_list)/len(ingore_acc_list)\n",
    "plt.hist(ingore_acc_list, weights = weight)\n",
    "plt.show()"
   ]
  },
  {
   "cell_type": "code",
   "execution_count": 41,
   "metadata": {},
   "outputs": [
    {
     "data": {
      "text/plain": [
       "<matplotlib.collections.PathCollection at 0x7f0c08323190>"
      ]
     },
     "execution_count": 41,
     "metadata": {},
     "output_type": "execute_result"
    },
    {
     "data": {
      "image/png": "[encoded data removed]",
      "text/plain": [
       "<Figure size 432x288 with 1 Axes>"
      ]
     },
     "metadata": {
      "needs_background": "light"
     },
     "output_type": "display_data"
    }
   ],
   "source": [
    "plt.scatter(np.log10(ingore_div_list), ingore_acc_list)"
   ]
  },
  {
   "cell_type": "code",
   "execution_count": 48,
   "metadata": {},
   "outputs": [
    {
     "data": {
      "text/plain": [
       "<matplotlib.collections.PathCollection at 0x7f0c28cd7a90>"
      ]
     },
     "execution_count": 48,
     "metadata": {},
     "output_type": "execute_result"
    },
    {
     "data": {
      "image/png": "[encoded data removed]",
      "text/plain": [
       "<Figure size 432x288 with 1 Axes>"
      ]
     },
     "metadata": {
      "needs_background": "light"
     },
     "output_type": "display_data"
    }
   ],
   "source": [
    "plt.scatter((np.log10(ingore_div_list)-4)**2, ingore_acc_list)"
   ]
  },
  {
   "cell_type": "code",
   "execution_count": 43,
   "metadata": {},
   "outputs": [
    {
     "data": {
      "text/plain": [
       "<matplotlib.collections.PathCollection at 0x7f0c2807fdc0>"
      ]
     },
     "execution_count": 43,
     "metadata": {},
     "output_type": "execute_result"
    },
    {
     "data": {
      "image/png": "[encoded data removed]",
      "text/plain": [
       "<Figure size 432x288 with 1 Axes>"
      ]
     },
     "metadata": {
      "needs_background": "light"
     },
     "output_type": "display_data"
    }
   ],
   "source": [
    "plt.scatter(list(range(len(acc_list))),acc_list)"
   ]
  },
  {
   "cell_type": "code",
   "execution_count": 44,
   "metadata": {},
   "outputs": [],
   "source": [
    "from scipy import stats"
   ]
  },
  {
   "cell_type": "code",
   "execution_count": 46,
   "metadata": {},
   "outputs": [
    {
     "data": {
      "text/plain": [
       "LeveneResult(statistic=3636.126999637243, pvalue=0.0)"
      ]
     },
     "execution_count": 46,
     "metadata": {},
     "output_type": "execute_result"
    }
   ],
   "source": [
    "stats.levene(np.log10(ingore_div_list), ingore_acc_list)"
   ]
  },
  {
   "cell_type": "code",
   "execution_count": 45,
   "metadata": {},
   "outputs": [
    {
     "data": {
      "text/plain": [
       "(-0.0901460608994123, 7.855929513121784e-07)"
      ]
     },
     "execution_count": 45,
     "metadata": {},
     "output_type": "execute_result"
    }
   ],
   "source": [
    "stats.pearsonr(np.log10(ingore_div_list), ingore_acc_list)"
   ]
  },
  {
   "cell_type": "code",
   "execution_count": 49,
   "metadata": {},
   "outputs": [
    {
     "data": {
      "text/plain": [
       "SpearmanrResult(correlation=0.06639462323763308, pvalue=0.00027881841616097847)"
      ]
     },
     "execution_count": 49,
     "metadata": {},
     "output_type": "execute_result"
    }
   ],
   "source": [
    "stats.spearmanr(np.log10(ingore_div_list), ingore_acc_list)"
   ]
  },
  {
   "cell_type": "code",
   "execution_count": 50,
   "metadata": {},
   "outputs": [
    {
     "data": {
      "text/plain": [
       "KendalltauResult(correlation=0.05489999887066058, pvalue=2.320544780323743e-05)"
      ]
     },
     "execution_count": 50,
     "metadata": {},
     "output_type": "execute_result"
    }
   ],
   "source": [
    "stats.kendalltau(np.log10(ingore_div_list), ingore_acc_list)"
   ]
  },
  {
   "cell_type": "markdown",
   "metadata": {},
   "source": [
    "# 二次"
   ]
  },
  {
   "cell_type": "code",
   "execution_count": 52,
   "metadata": {},
   "outputs": [
    {
     "data": {
      "text/plain": [
       "LeveneResult(statistic=1548.5837259515913, pvalue=2.0408340331506095e-301)"
      ]
     },
     "execution_count": 52,
     "metadata": {},
     "output_type": "execute_result"
    }
   ],
   "source": [
    "stats.levene((np.log10(ingore_div_list)-4)**2, ingore_acc_list)"
   ]
  },
  {
   "cell_type": "code",
   "execution_count": 53,
   "metadata": {},
   "outputs": [
    {
     "data": {
      "text/plain": [
       "SpearmanrResult(correlation=0.04185135792879946, pvalue=0.0220630165897766)"
      ]
     },
     "execution_count": 53,
     "metadata": {},
     "output_type": "execute_result"
    }
   ],
   "source": [
    "stats.spearmanr((np.log10(ingore_div_list)-4)**2, ingore_acc_list)"
   ]
  }
 ],
 "metadata": {
  "interpreter": {
   "hash": "b91fd5d531450f9f66c1b286a62fef5f077805e284adac94e49538db1b8406df"
  },
  "kernelspec": {
   "display_name": "Python 3.8.0 ('expgnndgl')",
   "language": "python",
   "name": "python3"
  },
  "language_info": {
   "codemirror_mode": {
    "name": "ipython",
    "version": 3
   },
   "file_extension": ".py",
   "mimetype": "text/x-python",
   "name": "python",
   "nbconvert_exporter": "python",
   "pygments_lexer": "ipython3",
   "version": "3.8.0"
  },
  "orig_nbformat": 4
 },
 "nbformat": 4,
 "nbformat_minor": 2
}
