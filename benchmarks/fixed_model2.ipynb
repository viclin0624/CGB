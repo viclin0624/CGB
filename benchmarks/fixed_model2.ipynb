{
 "cells": [
  {
   "cell_type": "markdown",
   "metadata": {},
   "source": [
    "**这里的m支持随机**"
   ]
  },
  {
   "cell_type": "code",
   "execution_count": 1,
   "metadata": {},
   "outputs": [
    {
     "name": "stderr",
     "output_type": "stream",
     "text": [
      "Using backend: pytorch\n"
     ]
    }
   ],
   "source": [
    "import networkx as nx\n",
    "import torch\n",
    "import torch.nn.functional as F\n",
    "from torch.nn import Sequential, Linear, ReLU\n",
    "import sys\n",
    "from dgl.nn import GraphConv#instead of GCNConv in PyG\n",
    "import dgl\n",
    "sys.path.append('..')\n",
    "from model.models_dgl import GraphConvWL\n",
    "from ba4label_dgl_total_m import *\n",
    "from torch import nn\n",
    "def generate_single_sample(label, perturb_type, nodes_num = 25, m = 1, perturb_dic = {}, \n",
    "seed = None):\n",
    "    '''\n",
    "    return a networkx instance\n",
    "    '''\n",
    "    basis_type = \"ba\"\n",
    "    which_type = label\n",
    "    if which_type == 0:\n",
    "        if perturb_type == 0:\n",
    "            G, role_id, plug_id = build_graph(nodes_num, basis_type, [], start = 0, m = m, seed = seed)\n",
    "        else:\n",
    "            G, role_id, plug_id = build_graph(nodes_num - perturb_type, basis_type, [[perturb_dic[perturb_type]]], start = 0, m = m, seed = seed)\n",
    "    else:\n",
    "        list_shapes = [[\"house\"]] * (which_type - 1) + [[\"five_cycle\"]] * (3 - which_type)\n",
    "        if perturb_type != 0:\n",
    "            list_shapes = list_shapes + [[perturb_dic[perturb_type]]]\n",
    "        G, role_id, plug_id = build_graph(nodes_num-10-perturb_type, basis_type, list_shapes, start = 0, m = m, seed = seed)\n",
    "    return G\n",
    "\n",
    "class FixedNet(nn.Module):\n",
    "    def __init__(self, num_node_features, num_classes, num_layers, concat_features, conv_type):\n",
    "        super(FixedNet, self).__init__()\n",
    "        dim = 1\n",
    "        self.convs = torch.nn.ModuleList()\n",
    "        if conv_type == 'GraphConvWL':#'GCNConv':\n",
    "            conv_class = GraphConvWL\n",
    "            #kwargs = {'add_self_loops': False}\n",
    "        elif conv_type == 'GraphConv':\n",
    "            conv_class = GraphConv\n",
    "            kwargs = {}\n",
    "        else:\n",
    "            raise RuntimeError(f\"conv_type {conv_type} not supported\")\n",
    "\n",
    "        self.convs.append(conv_class(num_node_features, dim, bias = False))#, **kwargs))\n",
    "        for i in range(num_layers - 1):\n",
    "            self.convs.append(conv_class(dim, dim, bias = False))#, **kwargs))\n",
    "        self.concat_features = concat_features\n",
    "\n",
    "\n",
    "    def forward(self, g, x):\n",
    "        '''\n",
    "        g: DGL Graph\n",
    "        x: node feature\n",
    "        '''\n",
    "        xs = [x]\n",
    "        for conv in self.convs:\n",
    "            x = conv(g, x)\n",
    "            x = F.relu(x)\n",
    "            xs.append(x)\n",
    "        if self.concat_features:\n",
    "            x = torch.cat(xs, dim=1)\n",
    "        g.ndata['h'] = x\n",
    "        hg = dgl.mean_nodes(g, 'h')\n",
    "        return hg, xs"
   ]
  },
  {
   "cell_type": "code",
   "execution_count": 3,
   "metadata": {},
   "outputs": [],
   "source": [
    "from tqdm import tqdm as tq\n",
    "from dgl.nn import GraphConv\n",
    "class GraphConvWL(nn.Module):\n",
    "    r'''\n",
    "    Description\n",
    "    -----------\n",
    "    Similar to GraphConv in PyG\n",
    "\n",
    "    This graph convolution operater was introduced in `\"Weisfeiler and Leman Go\n",
    "    Neural: Higher-order Graph Neural Networks\"\n",
    "    <https://arxiv.org/abs/1810.02244>`_ paper\n",
    "\n",
    "    Parameters\n",
    "    ----------\n",
    "    in_feats : int\n",
    "        Input feature size; i.e, the number of dimensions of :math:`h_j^{(l)}`.\n",
    "    out_feats : int\n",
    "        Output feature size; i.e., the number of dimensions of :math:`h_i^{(l+1)}`.\n",
    "    bias : bool, optional\n",
    "        If True, apply a learnable bias to the output. Default: ``True``\n",
    "    allow_zero_in_degree : bool, optional\n",
    "        If there are 0-in-degree nodes in the graph, output for those nodes will be invalid\n",
    "        since no message will be passed to those nodes. This is harmful for some applications\n",
    "        causing silent performance regression. This module will raise a DGLError if it detects\n",
    "        0-in-degree nodes in input graph. By setting ``True``, it will suppress the check\n",
    "        and let the users handle it by themselves. Default: ``True``.\n",
    "    '''\n",
    "    def __init__(self,\n",
    "                in_feats,\n",
    "                out_feats,\n",
    "                bias = True,\n",
    "                allow_zero_in_degree = True) -> None:\n",
    "        super().__init__()\n",
    "        self.conv_from_neigh = GraphConv(in_feats, out_feats, norm = 'none', weight = True, bias = bias, allow_zero_in_degree = allow_zero_in_degree)\n",
    "        self.conv_from_self = nn.Linear(in_feats,out_feats, bias = False)\n",
    "\n",
    "        self.reset_parameters()\n",
    "    \n",
    "    def reset_parameters(self):\n",
    "        self.conv_from_neigh.reset_parameters()\n",
    "        self.conv_from_self.reset_parameters()\n",
    "\n",
    "    def forward(self, graph, feat):\n",
    "        neigh_feat = self.conv_from_neigh(graph, feat)\n",
    "        self_feat = self.conv_from_self(feat)\n",
    "        return neigh_feat+self_feat\n",
    "\n",
    "\n",
    "class Net3(torch.nn.Module):\n",
    "    def __init__(self, num_node_features, num_classes, num_layers, concat_features, conv_type, dim = 1, report = False, readout = 'Mean'):\n",
    "        super(Net3, self).__init__()\n",
    "        dim = dim\n",
    "        self.report = report\n",
    "        self.readout = readout\n",
    "        self.convs = torch.nn.ModuleList()\n",
    "        if conv_type == 'GraphConvWL':#'GCNConv':\n",
    "            conv_class = GraphConvWL\n",
    "            #kwargs = {'add_self_loops': False}\n",
    "        elif conv_type == 'GraphConv':\n",
    "            conv_class = GraphConv\n",
    "            kwargs = {}\n",
    "        else:\n",
    "            raise RuntimeError(f\"conv_type {conv_type} not supported\")\n",
    "\n",
    "        self.convs.append(conv_class(num_node_features, dim))#, **kwargs))\n",
    "        for i in range(num_layers - 1):\n",
    "            self.convs.append(conv_class(dim, dim))#, **kwargs))\n",
    "        self.concat_features = concat_features\n",
    "        if concat_features:\n",
    "            self.fc = Linear(dim * num_layers + num_node_features, num_classes)\n",
    "        else:\n",
    "            self.fc = Linear(dim, num_classes)\n",
    "\n",
    "    def forward(self, g, x):\n",
    "        '''\n",
    "        g: DGL Graph\n",
    "        x: node feature\n",
    "        '''\n",
    "        xs = [x]\n",
    "        for conv in self.convs:\n",
    "            x = conv(g, x)\n",
    "            if self.report:\n",
    "                print(x)\n",
    "            x = F.relu(x)\n",
    "            xs.append(x)\n",
    "        if self.concat_features:\n",
    "            x = torch.cat(xs, dim=1)\n",
    "        g.ndata['h'] = x\n",
    "        if self.readout == 'Mean':\n",
    "            hg = dgl.mean_nodes(g, 'h')\n",
    "        elif self.readout == 'Max':\n",
    "            hg = dgl.max_nodes(g, 'h')\n",
    "        if self.report:\n",
    "            print(hg)\n",
    "        hg = self.fc(hg)\n",
    "        return F.log_softmax(hg, dim=1)\n",
    "def model_train_with_dim(layers, dim, epochs_num = 150, m = 5, readout = 'Mean', graphs_num = 1000):\n",
    "    \n",
    "    EPOCHS_NUM = epochs_num\n",
    "    m = m\n",
    "    device = torch.device('cuda')\n",
    "    data = BA4labelDataset(graphs_num = graphs_num, m = m,nodes_num=25, perturb_dic = {4:'square_diagonal'})\n",
    "    dataloader = dgl.dataloading.GraphDataLoader(data, batch_size = 16, shuffle = True)\n",
    "    data = BA4labelDataset(graphs_num = graphs_num, m = m,nodes_num=25, perturb_dic = {4:'square_diagonal'})\n",
    "    testdataloader = dgl.dataloading.GraphDataLoader(data, batch_size = 16, shuffle = True)\n",
    "    model = Net3(data.num_node_features, data.num_classes, layers, True,\n",
    "                                        'GraphConvWL', dim = dim, readout = readout).to(device)\n",
    "    optimizer = torch.optim.Adam(model.parameters(), lr=0.0003, weight_decay=0)\n",
    "\n",
    "    model.train()\n",
    "    pbar = tq(range(EPOCHS_NUM))\n",
    "    for epoch in pbar:\n",
    "        #train\n",
    "        loss_all = 0\n",
    "        for g, labels in dataloader:\n",
    "            g = g.to(device)\n",
    "            optimizer.zero_grad()\n",
    "            output = model(g, g.ndata['x'])\n",
    "            loss = F.nll_loss(output, labels.to(device))\n",
    "            loss.backward()\n",
    "            loss_all += loss.item()\n",
    "            optimizer.step()\n",
    "        train_loss = loss_all/len(dataloader)\n",
    "        #train_acc\n",
    "        model.eval()\n",
    "\n",
    "        correct = 0\n",
    "        total = 0\n",
    "        for g, labels in dataloader:\n",
    "            g = g.to(device)\n",
    "            output = model(g, g.ndata['x'])\n",
    "            pred = output.max(dim=1)[1]\n",
    "            eq_pred = pred.eq(labels.to(device))\n",
    "            correct += eq_pred.sum().item()\n",
    "            total += len(labels.to(device))\n",
    "        train_acc = correct/total\n",
    "        #test_acc\n",
    "        model.eval()\n",
    "\n",
    "        correct = 0\n",
    "        total = 0\n",
    "        for g, labels in testdataloader:\n",
    "            g = g.to(device)\n",
    "            output = model(g, g.ndata['x'])\n",
    "            pred = output.max(dim=1)[1]\n",
    "            eq_pred = pred.eq(labels.to(device))\n",
    "            correct += eq_pred.sum().item()\n",
    "            total += len(labels.to(device))\n",
    "        test_acc = correct/total\n",
    "\n",
    "        pbar.set_postfix(train_loss=train_loss, train_acc = train_acc, test_acc = test_acc)\n",
    "    return model, train_acc,test_acc"
   ]
  },
  {
   "cell_type": "code",
   "execution_count": 4,
   "metadata": {},
   "outputs": [],
   "source": [
    "def test_model_with_another_m(model_test, m):\n",
    "    model_test.eval()\n",
    "    data = BA4labelDataset(m = m, nodes_num=25, perturb_dic = {4:'square_diagonal'})\n",
    "    testdataloader = dgl.dataloading.GraphDataLoader(data, batch_size = 16, shuffle = True)\n",
    "    correct = 0\n",
    "    total = 0\n",
    "    for g, labels in testdataloader:\n",
    "        g = g.to(device)\n",
    "        output = model_test(g, g.ndata['x'])\n",
    "        pred = output.max(dim=1)[1]\n",
    "        eq_pred = pred.eq(labels.to(device))\n",
    "        correct += eq_pred.sum().item()\n",
    "        total += len(labels.to(device))\n",
    "    test_acc = correct/total\n",
    "    return test_acc"
   ]
  },
  {
   "cell_type": "code",
   "execution_count": 5,
   "metadata": {},
   "outputs": [
    {
     "name": "stderr",
     "output_type": "stream",
     "text": [
      "100%|██████████| 150/150 [04:49<00:00,  1.93s/it, test_acc=0.954, train_acc=0.967, train_loss=0.0526]\n"
     ]
    },
    {
     "name": "stdout",
     "output_type": "stream",
     "text": [
      "Acc on dataset m = 2 0.866\n"
     ]
    },
    {
     "name": "stderr",
     "output_type": "stream",
     "text": [
      "100%|██████████| 150/150 [04:52<00:00,  1.95s/it, test_acc=1, train_acc=1, train_loss=0.00142]        \n"
     ]
    },
    {
     "name": "stdout",
     "output_type": "stream",
     "text": [
      "Acc on dataset m = 2 0.948\n"
     ]
    },
    {
     "name": "stderr",
     "output_type": "stream",
     "text": [
      "100%|██████████| 150/150 [04:50<00:00,  1.94s/it, test_acc=0.989, train_acc=0.993, train_loss=0.0312]\n"
     ]
    },
    {
     "name": "stdout",
     "output_type": "stream",
     "text": [
      "Acc on dataset m = 2 0.84\n"
     ]
    },
    {
     "name": "stderr",
     "output_type": "stream",
     "text": [
      "100%|██████████| 150/150 [04:53<00:00,  1.96s/it, test_acc=0.989, train_acc=0.99, train_loss=0.0462] \n"
     ]
    },
    {
     "name": "stdout",
     "output_type": "stream",
     "text": [
      "Acc on dataset m = 2 0.828\n"
     ]
    },
    {
     "name": "stderr",
     "output_type": "stream",
     "text": [
      "100%|██████████| 150/150 [05:12<00:00,  2.08s/it, test_acc=0.984, train_acc=0.99, train_loss=0.0254] \n"
     ]
    },
    {
     "name": "stdout",
     "output_type": "stream",
     "text": [
      "Acc on dataset m = 2 0.799\n"
     ]
    },
    {
     "name": "stderr",
     "output_type": "stream",
     "text": [
      "100%|██████████| 150/150 [05:27<00:00,  2.18s/it, test_acc=0.962, train_acc=0.97, train_loss=0.0933] \n"
     ]
    },
    {
     "name": "stdout",
     "output_type": "stream",
     "text": [
      "Acc on dataset m = 2 0.751\n"
     ]
    },
    {
     "name": "stderr",
     "output_type": "stream",
     "text": [
      "100%|██████████| 150/150 [05:26<00:00,  2.18s/it, test_acc=0.981, train_acc=0.979, train_loss=0.0685]\n"
     ]
    },
    {
     "name": "stdout",
     "output_type": "stream",
     "text": [
      "Acc on dataset m = 2 0.751\n"
     ]
    },
    {
     "name": "stderr",
     "output_type": "stream",
     "text": [
      "100%|██████████| 150/150 [05:29<00:00,  2.19s/it, test_acc=0.999, train_acc=1, train_loss=0.00366]    \n"
     ]
    },
    {
     "name": "stdout",
     "output_type": "stream",
     "text": [
      "Acc on dataset m = 2 0.992\n"
     ]
    },
    {
     "name": "stderr",
     "output_type": "stream",
     "text": [
      "100%|██████████| 150/150 [05:29<00:00,  2.20s/it, test_acc=0.997, train_acc=1, train_loss=0.000191]   \n"
     ]
    },
    {
     "name": "stdout",
     "output_type": "stream",
     "text": [
      "Acc on dataset m = 2 0.999\n"
     ]
    },
    {
     "name": "stderr",
     "output_type": "stream",
     "text": [
      "100%|██████████| 150/150 [05:29<00:00,  2.20s/it, test_acc=0.967, train_acc=0.976, train_loss=0.077] \n"
     ]
    },
    {
     "name": "stdout",
     "output_type": "stream",
     "text": [
      "Acc on dataset m = 2 0.79\n",
      "[[0.9673333333333334, 0.9543333333333334, 0.866], [1.0, 0.9996666666666667, 0.948], [0.9926666666666667, 0.9886666666666667, 0.84], [0.9903333333333333, 0.9886666666666667, 0.828], [0.99, 0.984, 0.799], [0.97, 0.9623333333333334, 0.751], [0.979, 0.9813333333333333, 0.751], [0.9996666666666667, 0.9986666666666667, 0.992], [1.0, 0.9973333333333333, 0.999], [0.9763333333333334, 0.967, 0.79]] [0.98653333 0.9822     0.8564    ]\n"
     ]
    }
   ],
   "source": [
    "device = torch.device('cuda')\n",
    "result = []\n",
    "for _ in range(10):\n",
    "    model_5, train_acc_5, test_acc_5 = model_train_with_dim(3,32,150, m = None, readout = 'Max', graphs_num = 3000)\n",
    "    temp = test_model_with_another_m(model_5, 2)\n",
    "    print('Acc on dataset m = 2', temp)\n",
    "    result.append([train_acc_5, test_acc_5,temp])\n",
    "print(result, np.mean(result, axis = 0))"
   ]
  },
  {
   "cell_type": "code",
   "execution_count": 6,
   "metadata": {},
   "outputs": [],
   "source": [
    "import pandas as pd\n",
    "result_df = pd.DataFrame(result, columns = ['train_acc','test_acc','test2_acc'])\n",
    "result_df.to_csv('./result/sample3k_max_randomm.csv')"
   ]
  },
  {
   "cell_type": "code",
   "execution_count": 8,
   "metadata": {},
   "outputs": [
    {
     "name": "stderr",
     "output_type": "stream",
     "text": [
      "100%|██████████| 150/150 [05:28<00:00,  2.19s/it, test_acc=0.999, train_acc=0.999, train_loss=0.00321]\n"
     ]
    },
    {
     "name": "stdout",
     "output_type": "stream",
     "text": [
      "Acc on dataset m = 2 0.742\n"
     ]
    },
    {
     "name": "stderr",
     "output_type": "stream",
     "text": [
      "100%|██████████| 150/150 [05:29<00:00,  2.20s/it, test_acc=0.999, train_acc=0.999, train_loss=0.0024] \n"
     ]
    },
    {
     "name": "stdout",
     "output_type": "stream",
     "text": [
      "Acc on dataset m = 2 0.851\n"
     ]
    },
    {
     "name": "stderr",
     "output_type": "stream",
     "text": [
      "100%|██████████| 150/150 [05:28<00:00,  2.19s/it, test_acc=1, train_acc=1, train_loss=0.000735]       \n"
     ]
    },
    {
     "name": "stdout",
     "output_type": "stream",
     "text": [
      "Acc on dataset m = 2 0.736\n"
     ]
    },
    {
     "name": "stderr",
     "output_type": "stream",
     "text": [
      "100%|██████████| 150/150 [05:32<00:00,  2.21s/it, test_acc=0.998, train_acc=1, train_loss=0.00204]    \n"
     ]
    },
    {
     "name": "stdout",
     "output_type": "stream",
     "text": [
      "Acc on dataset m = 2 0.789\n"
     ]
    },
    {
     "name": "stderr",
     "output_type": "stream",
     "text": [
      "100%|██████████| 150/150 [05:30<00:00,  2.20s/it, test_acc=0.999, train_acc=1, train_loss=0.00373]    \n"
     ]
    },
    {
     "name": "stdout",
     "output_type": "stream",
     "text": [
      "Acc on dataset m = 2 0.734\n"
     ]
    },
    {
     "name": "stderr",
     "output_type": "stream",
     "text": [
      "100%|██████████| 150/150 [05:33<00:00,  2.22s/it, test_acc=1, train_acc=1, train_loss=0.000353]        \n"
     ]
    },
    {
     "name": "stdout",
     "output_type": "stream",
     "text": [
      "Acc on dataset m = 2 0.881\n"
     ]
    },
    {
     "name": "stderr",
     "output_type": "stream",
     "text": [
      "100%|██████████| 150/150 [06:20<00:00,  2.54s/it, test_acc=0.993, train_acc=0.995, train_loss=0.016] \n"
     ]
    },
    {
     "name": "stdout",
     "output_type": "stream",
     "text": [
      "Acc on dataset m = 2 0.545\n"
     ]
    },
    {
     "name": "stderr",
     "output_type": "stream",
     "text": [
      "100%|██████████| 150/150 [06:36<00:00,  2.64s/it, test_acc=0.999, train_acc=1, train_loss=0.00427]    \n"
     ]
    },
    {
     "name": "stdout",
     "output_type": "stream",
     "text": [
      "Acc on dataset m = 2 0.743\n"
     ]
    },
    {
     "name": "stderr",
     "output_type": "stream",
     "text": [
      "100%|██████████| 150/150 [06:39<00:00,  2.66s/it, test_acc=1, train_acc=1, train_loss=0.000697]       \n"
     ]
    },
    {
     "name": "stdout",
     "output_type": "stream",
     "text": [
      "Acc on dataset m = 2 0.675\n"
     ]
    },
    {
     "name": "stderr",
     "output_type": "stream",
     "text": [
      "100%|██████████| 150/150 [06:36<00:00,  2.64s/it, test_acc=0.999, train_acc=0.999, train_loss=0.00896]\n"
     ]
    },
    {
     "name": "stdout",
     "output_type": "stream",
     "text": [
      "Acc on dataset m = 2 0.868\n",
      "[[0.9993333333333333, 0.999, 0.742], [0.9993333333333333, 0.999, 0.851], [1.0, 0.9996666666666667, 0.736], [0.9996666666666667, 0.9983333333333333, 0.789], [0.9996666666666667, 0.9993333333333333, 0.734], [1.0, 0.9996666666666667, 0.881], [0.995, 0.9926666666666667, 0.545], [0.9996666666666667, 0.999, 0.743], [1.0, 1.0, 0.675], [0.9986666666666667, 0.999, 0.868]] [0.99913333 0.99856667 0.7564    ]\n"
     ]
    }
   ],
   "source": [
    "best_model = None\n",
    "best_acc = 0\n",
    "device = torch.device('cuda')\n",
    "result = []\n",
    "for _ in range(10):\n",
    "    model_5, train_acc_5, test_acc_5 = model_train_with_dim(3,32,150, m = None, readout = 'Mean', graphs_num = 3000)\n",
    "    temp = test_model_with_another_m(model_5, 2)\n",
    "    print('Acc on dataset m = 2', temp)\n",
    "    if temp > best_acc:\n",
    "        best_model = model_5\n",
    "        best_acc = temp\n",
    "    result.append([train_acc_5, test_acc_5,temp])\n",
    "print(result, np.mean(result, axis = 0))"
   ]
  }
 ],
 "metadata": {
  "interpreter": {
   "hash": "b91fd5d531450f9f66c1b286a62fef5f077805e284adac94e49538db1b8406df"
  },
  "kernelspec": {
   "display_name": "Python 3.8.0 ('expgnndgl')",
   "language": "python",
   "name": "python3"
  },
  "language_info": {
   "codemirror_mode": {
    "name": "ipython",
    "version": 3
   },
   "file_extension": ".py",
   "mimetype": "text/x-python",
   "name": "python",
   "nbconvert_exporter": "python",
   "pygments_lexer": "ipython3",
   "version": "3.8.0"
  },
  "orig_nbformat": 4
 },
 "nbformat": 4,
 "nbformat_minor": 2
}
