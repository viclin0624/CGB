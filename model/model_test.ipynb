{
 "cells": [
  {
   "cell_type": "code",
   "execution_count": 1,
   "metadata": {},
   "outputs": [
    {
     "name": "stderr",
     "output_type": "stream",
     "text": [
      "Using backend: pytorch\n"
     ]
    }
   ],
   "source": [
    "from models_dgl import FixedNet2\n",
    "import torch\n",
    "import sys\n",
    "import dgl\n",
    "import numpy as np\n",
    "sys.path.append('..')\n",
    "from benchmarks.build_graph import BA4labelDataset,build_graph"
   ]
  },
  {
   "cell_type": "code",
   "execution_count": 2,
   "metadata": {},
   "outputs": [],
   "source": [
    "def generate_single_sample(label, perturb_type, nodes_num = 25, m = 1, perturb_dic = {}, \n",
    "    seed = None, no_attach_init_nodes=False):\n",
    "    '''\n",
    "    This function is for test model return a networkx instance.\n",
    "    '''\n",
    "    basis_type = \"ba\"\n",
    "    which_type = label\n",
    "    if which_type == 0:\n",
    "        if perturb_type == 0:\n",
    "            G, role_id, plug_id = build_graph(nodes_num, basis_type, [], start = 0, m = m, seed = seed, no_attach_init_nodes=no_attach_init_nodes)\n",
    "        else:\n",
    "            G, role_id, plug_id = build_graph(nodes_num - perturb_type, basis_type, [[perturb_dic[perturb_type]]], start = 0, m = m, seed = seed, no_attach_init_nodes=no_attach_init_nodes)\n",
    "    else:\n",
    "        list_shapes = [[\"house\"]] * (which_type - 1) + [[\"five_cycle\"]] * (3 - which_type)\n",
    "        if perturb_type != 0:\n",
    "            list_shapes = list_shapes + [[perturb_dic[perturb_type]]]\n",
    "        G, role_id, plug_id = build_graph(nodes_num-10-perturb_type, basis_type, list_shapes, start = 0, m = m, seed = seed, no_attach_init_nodes=no_attach_init_nodes)\n",
    "    return G"
   ]
  },
  {
   "cell_type": "code",
   "execution_count": 4,
   "metadata": {},
   "outputs": [
    {
     "name": "stderr",
     "output_type": "stream",
     "text": [
      "/home/ubuntu/anaconda3/envs/expgnndgl/lib/python3.8/site-packages/torch/nn/functional.py:1639: UserWarning: nn.functional.sigmoid is deprecated. Use torch.sigmoid instead.\n",
      "  warnings.warn(\"nn.functional.sigmoid is deprecated. Use torch.sigmoid instead.\")\n"
     ]
    },
    {
     "name": "stdout",
     "output_type": "stream",
     "text": [
      "[array([3]), array([0]), array([3]), array([3]), array([3]), array([3]), array([3]), array([0]), array([3]), array([3]), array([3]), array([3]), array([3]), array([3]), array([3]), array([3]), array([3]), array([3]), array([3]), array([3]), array([3]), array([3]), array([3]), array([3]), array([3]), array([3]), array([3]), array([0]), array([3]), array([3]), array([0]), array([3]), array([3]), array([3]), array([3]), array([3]), array([3]), array([3]), array([3]), array([3]), array([3]), array([3]), array([3]), array([3]), array([3]), array([3]), array([3]), array([3]), array([3]), array([3]), array([3]), array([3]), array([3]), array([3]), array([3]), array([3]), array([3]), array([3]), array([3]), array([3]), array([3]), array([3]), array([3]), array([3]), array([3]), array([3]), array([3]), array([3]), array([3]), array([0]), array([3]), array([3]), array([3]), array([3]), array([3]), array([3]), array([3]), array([3]), array([3]), array([3]), array([3]), array([3]), array([3]), array([3]), array([3]), array([3]), array([3]), array([3]), array([3]), array([3]), array([3]), array([3]), array([3]), array([3]), array([3]), array([3]), array([3]), array([3]), array([3]), array([3])]\n"
     ]
    }
   ],
   "source": [
    "model_fixed = FixedNet2(1,4,2,concat_features= False,conv_type = 'GraphConvWL')\n",
    "model_fixed.set_paramerters()\n",
    "device = torch.device('cuda')\n",
    "model_fixed = model_fixed.to(device)\n",
    "model_fixed.unuse_report()\n",
    "result = []\n",
    "for i in range(100):\n",
    "    G = generate_single_sample(3, 0, nodes_num = 50, m = 6, perturb_dic = {}, no_attach_init_nodes = True)\n",
    "    G = dgl.from_networkx(G)\n",
    "    cut_index = np.random.choice(list(range(G.num_edges())))\n",
    "    G = dgl.remove_edges(G, cut_index)\n",
    "    G = G.to(device)\n",
    "    result.append(np.argmax(model_fixed(G, torch.ones((50,1)).to(device)).cpu().detach().numpy(), axis = 1))\n",
    "print(result)"
   ]
  }
 ],
 "metadata": {
  "interpreter": {
   "hash": "b91fd5d531450f9f66c1b286a62fef5f077805e284adac94e49538db1b8406df"
  },
  "kernelspec": {
   "display_name": "Python 3.8.0 ('expgnndgl')",
   "language": "python",
   "name": "python3"
  },
  "language_info": {
   "codemirror_mode": {
    "name": "ipython",
    "version": 3
   },
   "file_extension": ".py",
   "mimetype": "text/x-python",
   "name": "python",
   "nbconvert_exporter": "python",
   "pygments_lexer": "ipython3",
   "version": "3.8.0"
  },
  "orig_nbformat": 4
 },
 "nbformat": 4,
 "nbformat_minor": 2
}
